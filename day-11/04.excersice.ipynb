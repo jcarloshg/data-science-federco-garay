{
 "cells": [
  {
   "cell_type": "markdown",
   "id": "2bd65122",
   "metadata": {},
   "source": [
    "# Regresión Logística en Machine Learning 1\n",
    "\n",
    "Utiliza el siguiente dataframe con los datos ya cargados:\n",
    "\n",
    "```python\n",
    "datos = {\n",
    "    'edad': [25, 30, 45, 22, 34, 40, 27, 31, 43, 50],\n",
    "    'salario': [50000, 54000, 72000, 42000, 62000, 68000, 49000, 56000, 76000, 90000],\n",
    "    'compra': [0, 0, 1, 0, 1, 1, 0, 0, 1, 1]\n",
    "}\n",
    "df = pd.DataFrame(datos)\n",
    "```\n",
    "\n",
    "Con esta información previa debes realizar los siguientes pasos:\n",
    "\n",
    "1. Grafica un diagrama de dispersión (scatter) que muestre la relación entre la edad y la compra de seguros.\n",
    "2. Etiqueta del eje x: 'Edad'\n",
    "3. Etiqueta del eje y: 'Compra de seguros'\n",
    "4. Activa la rejilla en el gráfico (grid)\n"
   ]
  },
  {
   "cell_type": "code",
   "execution_count": 1,
   "id": "b2151116",
   "metadata": {},
   "outputs": [
    {
     "data": {
      "image/png": "[encoded data removed]",
      "text/plain": [
       "<Figure size 640x480 with 1 Axes>"
      ]
     },
     "metadata": {},
     "output_type": "display_data"
    }
   ],
   "source": [
    "import pandas as pd\n",
    "import matplotlib.pyplot as plt\n",
    "\n",
    "datos = {\n",
    "    'edad': [25, 30, 45, 22, 34, 40, 27, 31, 43, 50],\n",
    "    'salario': [50000, 54000, 72000, 42000, 62000, 68000, 49000, 56000, 76000, 90000],\n",
    "    'compra': [0, 0, 1, 0, 1, 1, 0, 0, 1, 1]\n",
    "}\n",
    "df = pd.DataFrame(datos)\n",
    "\n",
    "plt.scatter(df['edad'], df['compra'])\n",
    "plt.xlabel('Edad')\n",
    "plt.ylabel('Compra de seguros')\n",
    "plt.grid(True)\n",
    "plt.show()"
   ]
  },
  {
   "cell_type": "markdown",
   "id": "33d55d21",
   "metadata": {},
   "source": [
    "# Regresión Logística en Machine Learning 2\n",
    "\n",
    "Utilizando el DataFrame, anterior, con datos de clientes:\n",
    "\n",
    "```python\n",
    "# Crear un DataFrame de ejemplo con datos de clientes\n",
    "datos = {\n",
    "    'edad': [25, 30, 45, 22, 34, 40, 27, 31, 43, 50],\n",
    "    'salario': [50000, 54000, 72000, 42000, 62000, 68000, 49000, 56000, 76000, 90000],\n",
    "    'compra': [0, 0, 1, 0, 1, 1, 0, 0, 1, 1]\n",
    "}\n",
    "\n",
    "df = pd.DataFrame(datos)\n",
    "```\n",
    "\n",
    "Vamos a proceder a separar estos datos en conjuntos de entrenamiento y prueba, y luego a evaluar nuestro modelo de regresión logística.\n",
    "\n",
    "1. Utiliza la función correcta para dividir tu DataFrame en cuatro partes: X_entrena, X_prueba, y_entrena, y_prueba. Asegúrate de que la proporción de entrenamiento sea del 90% del total de los datos.\n",
    "\n",
    "2. Crea la variable modelo donde almacenes el modelo de regresión logística usando la clase adecuada de sklearn y entrénalo con los conjuntos X_entrena y y_entrena.\n",
    "\n",
    "3. Evalúa el desempeño de tu modelo con los datos de entrenamiento usando el método correcto para este fin.\n",
    "\n",
    "Recuerda importar los módulos de python necesarios para que tu código funcione correctamente.\n"
   ]
  },
  {
   "cell_type": "code",
   "execution_count": null,
   "id": "00296420",
   "metadata": {},
   "outputs": [
    {
     "data": {
      "text/plain": [
       "1.0"
      ]
     },
     "execution_count": 10,
     "metadata": {},
     "output_type": "execute_result"
    }
   ],
   "source": [
    "import pandas as pd\n",
    "from sklearn.linear_model import LogisticRegression\n",
    "from sklearn.model_selection import train_test_split\n",
    "\n",
    "datos = {\n",
    "    'edad': [25, 30, 45, 22, 34, 40, 27, 31, 43, 50],\n",
    "    'salario': [50000, 54000, 72000, 42000, 62000, 68000, 49000, 56000, 76000, 90000],\n",
    "    'compra': [0, 0, 1, 0, 1, 1, 0, 0, 1, 1]\n",
    "}\n",
    "\n",
    "df = pd.DataFrame(datos)\n",
    " \n",
    "# Dividir los datos en conjuntos de entrenamiento y prueba (90% entrenamiento, 10% prueba)\n",
    "X_entrena, X_prueba, y_entrena, y_prueba = train_test_split(df[['edad']], df['compra'], train_size=0.9, random_state=42)\n",
    "\n",
    "modelo = LogisticRegression()\n",
    "modelo.fit(X_entrena, y_entrena)\n",
    "modelo.score(X_entrena, y_entrena)"
   ]
  }
 ],
 "metadata": {
  "kernelspec": {
   "display_name": "base",
   "language": "python",
   "name": "python3"
  },
  "language_info": {
   "codemirror_mode": {
    "name": "ipython",
    "version": 3
   },
   "file_extension": ".py",
   "mimetype": "text/x-python",
   "name": "python",
   "nbconvert_exporter": "python",
   "pygments_lexer": "ipython3",
   "version": "3.13.5"
  }
 },
 "nbformat": 4,
 "nbformat_minor": 5
}
