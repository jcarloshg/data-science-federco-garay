{
 "cells": [
  {
   "cell_type": "code",
   "execution_count": 3,
   "id": "dd7037c5",
   "metadata": {},
   "outputs": [
    {
     "name": "stderr",
     "output_type": "stream",
     "text": [
      "/home/jose/anaconda3/lib/python3.13/site-packages/sklearn/linear_model/_logistic.py:465: ConvergenceWarning: lbfgs failed to converge (status=1):\n",
      "STOP: TOTAL NO. OF ITERATIONS REACHED LIMIT.\n",
      "\n",
      "Increase the number of iterations (max_iter) or scale the data as shown in:\n",
      "    https://scikit-learn.org/stable/modules/preprocessing.html\n",
      "Please also refer to the documentation for alternative solver options:\n",
      "    https://scikit-learn.org/stable/modules/linear_model.html#logistic-regression\n",
      "  n_iter_i = _check_optimize_result(\n"
     ]
    },
    {
     "name": "stdout",
     "output_type": "stream",
     "text": [
      "score of logistic regression: 0.9986\n",
      "score of decision tree classifier: 0.9989\n",
      "score of random forest classifier: 0.9996\n"
     ]
    }
   ],
   "source": [
    "import pandas as pd\n",
    "import numpy as np\n",
    "from sklearn.model_selection import train_test_split\n",
    "\n",
    "from sklearn.preprocessing import MinMaxScaler\n",
    "# algorithm\n",
    "from sklearn.linear_model import LogisticRegression\n",
    "from sklearn.tree import DecisionTreeClassifier\n",
    "from sklearn.ensemble import RandomForestClassifier\n",
    "\n",
    "# read he csv\n",
    "csv_url = \"./tarjetas_credito.csv\"\n",
    "df = pd.read_csv(csv_url)\n",
    "df.head()\n",
    "\n",
    "# normaliza data\n",
    "escala = MinMaxScaler(feature_range=(0, 1))\n",
    "normado = escala.fit_transform(df)\n",
    "df_normado = pd.DataFrame(data=normado, columns=df.columns)\n",
    "df_normado.head()\n",
    "\n",
    "# get data to train\n",
    "X = df.drop(\"Clase\", axis=1)\n",
    "Y = df_normado[\"Clase\"]\n",
    "x_entrana, x_prueba, y_entrena, y_prueba = train_test_split(X, Y, train_size=0.8, random_state=42)\n",
    "\n",
    "# init && train the models\n",
    "models = [\n",
    "    (\"logistic regression\", LogisticRegression()),\n",
    "    (\"decision tree classifier\", DecisionTreeClassifier()),\n",
    "    (\"random forest classifier\", RandomForestClassifier() )\n",
    "]\n",
    "\n",
    "for name, model in models:\n",
    "    model.fit(x_entrana, y_entrena)\n",
    "    score = model.score(x_prueba, y_prueba)\n",
    "    print(f\"score of {name}: {score:.4f}\")\n"
   ]
  },
  {
   "cell_type": "code",
   "execution_count": null,
   "id": "637c8ba6",
   "metadata": {},
   "outputs": [],
   "source": []
  }
 ],
 "metadata": {
  "kernelspec": {
   "display_name": "base",
   "language": "python",
   "name": "python3"
  },
  "language_info": {
   "codemirror_mode": {
    "name": "ipython",
    "version": 3
   },
   "file_extension": ".py",
   "mimetype": "text/x-python",
   "name": "python",
   "nbconvert_exporter": "python",
   "pygments_lexer": "ipython3",
   "version": "3.13.5"
  }
 },
 "nbformat": 4,
 "nbformat_minor": 5
}
