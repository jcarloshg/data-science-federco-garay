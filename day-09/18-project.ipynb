{
 "cells": [
  {
   "cell_type": "markdown",
   "id": "dd8109da",
   "metadata": {},
   "source": [
    "# Proyecto del Día 9: Consulta de Temperaturas Interactivo por Ciudad y Mes\n",
    "\n",
    "## Objetivo\n",
    "\n",
    "El proyecto propuesto consistirá en la creación de un programa interactivo para la visualización de datos meteorológicos. Este programa permitirá a los usuarios visualizar los registros climáticos eligiendo el lugar y el més. El objetivo es aplicar los conceptos de creación de gráficos, personalización de estilos y combinarlo con las habilidades de desarrollo de programas con Python.\n",
    "\n",
    "## Consigna\n",
    "\n",
    "1. **Cargar un DataFrame** con los datos meteorológicos provistos en el archivo descargable de esta lección.\n",
    "2. Asegúrate de que las **fechas** estén en el **formato correcto** para su manipulación posterior.\n",
    "3. Crea un programa (una función o un conjunto de funciones) que le pida al usuario que seleccione una **ciudad** de la lista de ciudades disponibles en nuestro DataFrame, y un **mes** del año.\n",
    "4. Muéstrale al usuario un gráfico que muestre las temperaturas mínimas y máximas que se registraron en la ciudad elegida durante el mes elegido.\n",
    "5. El programa debe preguntarle al usuario si desea seguir haciendo consultas o no.\n",
    "\n",
    "**¡Mucha suerte!**\n"
   ]
  },
  {
   "cell_type": "code",
   "execution_count": 47,
   "id": "d4e0a9d1",
   "metadata": {},
   "outputs": [
    {
     "name": "stdout",
     "output_type": "stream",
     "text": [
      "       Fecha        Ciudad  Temperatura Maxima  Temperatura Minima  \\\n",
      "0 2023-01-01  Buenos Aires                  27                  18   \n",
      "1 2023-01-01       Cordoba                  35                  18   \n",
      "2 2023-01-01       Rosario                  23                  21   \n",
      "3 2023-01-01       Mendoza                  35                  21   \n",
      "4 2023-01-01       Tucuman                  36                  18   \n",
      "\n",
      "   Precipitacion  Velocidad del Viento  Humedad Relativa  \n",
      "0            0.0                  22.7              68.8  \n",
      "1            0.0                  33.8              61.7  \n",
      "2            0.0                  10.6              80.0  \n",
      "3            0.0                  23.8              76.8  \n",
      "4           17.2                  25.7              54.9  \n",
      "<class 'pandas._libs.tslibs.timestamps.Timestamp'>\n"
     ]
    },
    {
     "name": "stdout",
     "output_type": "stream",
     "text": [
      "Ciudad seleccionada: \n"
     ]
    },
    {
     "ename": "ValueError",
     "evalue": "invalid literal for int() with base 10: ''",
     "output_type": "error",
     "traceback": [
      "\u001b[1;31m---------------------------------------------------------------------------\u001b[0m",
      "\u001b[1;31mValueError\u001b[0m                                Traceback (most recent call last)",
      "Cell \u001b[1;32mIn[47], line 54\u001b[0m\n\u001b[0;32m     49\u001b[0m     plt\u001b[38;5;241m.\u001b[39mshow()\n\u001b[0;32m     51\u001b[0m     \u001b[38;5;28;01mreturn\u001b[39;00m month_filtered\n\u001b[1;32m---> 54\u001b[0m select_city_and_month(df)\n",
      "Cell \u001b[1;32mIn[47], line 31\u001b[0m, in \u001b[0;36mselect_city_and_month\u001b[1;34m(df)\u001b[0m\n\u001b[0;32m     28\u001b[0m city_filtered\n\u001b[0;32m     30\u001b[0m \u001b[38;5;66;03m# month\u001b[39;00m\n\u001b[1;32m---> 31\u001b[0m month_number \u001b[38;5;241m=\u001b[39m \u001b[38;5;28mint\u001b[39m(\u001b[38;5;28minput\u001b[39m(\u001b[38;5;124m\"\u001b[39m\u001b[38;5;124mSelecciona un mes (1-12): \u001b[39m\u001b[38;5;124m\"\u001b[39m))\n\u001b[0;32m     32\u001b[0m \u001b[38;5;28mprint\u001b[39m(\u001b[38;5;124mf\u001b[39m\u001b[38;5;124m\"\u001b[39m\u001b[38;5;124mMes seleccionado: \u001b[39m\u001b[38;5;132;01m{\u001b[39;00mmonth_number\u001b[38;5;132;01m}\u001b[39;00m\u001b[38;5;124m\"\u001b[39m)\n\u001b[0;32m     33\u001b[0m month_filtered \u001b[38;5;241m=\u001b[39m city_filtered[city_filtered[\u001b[38;5;124m'\u001b[39m\u001b[38;5;124mFecha\u001b[39m\u001b[38;5;124m'\u001b[39m]\u001b[38;5;241m.\u001b[39mdt\u001b[38;5;241m.\u001b[39mmonth \u001b[38;5;241m==\u001b[39m month_number]\n",
      "\u001b[1;31mValueError\u001b[0m: invalid literal for int() with base 10: ''"
     ]
    }
   ],
   "source": [
    "import matplotlib.pyplot as plt\n",
    "import pandas as pd\n",
    "\n",
    "# 1. **Cargar un DataFrame** con los datos meteorológicos\n",
    "# provistos en el archivo descargable de esta lección.\n",
    "meteorological_csv_url = './meteorological.csv'\n",
    "df = pd.read_csv(meteorological_csv_url)\n",
    "\n",
    "# 2. Asegúrate de que las **fechas** estén en\n",
    "# el **formato correcto** para su manipulación posterior.\n",
    "df['Fecha'] = pd.to_datetime(df['Fecha'], format='%d/%m/%Y')\n",
    "df['Fecha'].isnull().sum()  # Verifica si hay valores nulos en la columna 'Fecha'\n",
    "print(df.head())  # Muestra las primeras fechas para verificar el formato\n",
    "print(type(df['Fecha'][0]))\n",
    "\n",
    "\n",
    "# 3. Crea un programa (una función o un conjunto de funciones)\n",
    "# que le pida al usuario que seleccione una **ciudad** de la\n",
    "# lista de ciudades disponibles en nuestro DataFrame, y un **mes** del año.\n",
    "\n",
    "def select_city_and_month(df):\n",
    "    # city\n",
    "    city_name = input(\n",
    "        \"Selecciona una ciudad de la lista: \" +\n",
    "        \", \".join(df['Ciudad'].unique()) + \"\\n\")\n",
    "    print(f\"Ciudad seleccionada: {city_name}\")\n",
    "    city_filtered = df[df['Ciudad'] == city_name]\n",
    "    city_filtered\n",
    "\n",
    "    # month\n",
    "    month_number = int(input(\"Selecciona un mes (1-12): \"))\n",
    "    print(f\"Mes seleccionado: {month_number}\")\n",
    "    month_filtered = city_filtered[city_filtered['Fecha'].dt.month == month_number]\n",
    "    month_filtered\n",
    "\n",
    "    # 4. Muéstrale al usuario un gráfico que muestre las temperaturas mínimas\n",
    "    # y máximas que se registraron en la ciudad elegida durante el mes elegido.\n",
    "\n",
    "    plt.figure(figsize=(10, 5))\n",
    "    plt.plot(month_filtered['Fecha'], month_filtered['Temperatura Minima'],\n",
    "             label='Temperatura Mínima', color='blue')\n",
    "    plt.plot(month_filtered['Fecha'], month_filtered['Temperatura Maxima'],\n",
    "             label='Temperatura Máxima', color='red')\n",
    "    plt.title(f'Temperaturas en {city_name} durante el mes {month_number}')\n",
    "    plt.xlabel('Fecha')\n",
    "    plt.ylabel('Temperatura')\n",
    "    plt.legend()\n",
    "    plt.xticks(rotation=45)\n",
    "    plt.show()\n",
    "\n",
    "    return month_filtered\n",
    "\n",
    "\n",
    "select_city_and_month(df)"
   ]
  }
 ],
 "metadata": {
  "kernelspec": {
   "display_name": "base",
   "language": "python",
   "name": "python3"
  },
  "language_info": {
   "codemirror_mode": {
    "name": "ipython",
    "version": 3
   },
   "file_extension": ".py",
   "mimetype": "text/x-python",
   "name": "python",
   "nbconvert_exporter": "python",
   "pygments_lexer": "ipython3",
   "version": "3.13.5"
  }
 },
 "nbformat": 4,
 "nbformat_minor": 5
}
