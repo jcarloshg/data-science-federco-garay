{
 "cells": [
  {
   "cell_type": "markdown",
   "id": "d4e84794",
   "metadata": {},
   "source": [
    "[docs](https://matplotlib.org/stable/api/_as_gen/matplotlib.pyplot.plot.html)\n",
    "\n",
    "## colors:\n",
    "\n",
    "- 'b': azul\n",
    "- 'g': verde\n",
    "- 'r': rojo\n",
    "- 'c': cian\n",
    "- 'm': magenta\n",
    "- 'y': amarillo\n",
    "- 'k': negro\n",
    "- 'w': blanco\n",
    "\n",
    "## Marcadores\n",
    "\n",
    "- 'o': círculos\n",
    "- '^': triángulos hacia arriba\n",
    "- 's': cuadrados\n",
    "- '\\*': estrellas\n",
    "- '+': cruces\n",
    "- 'x': equis\n",
    "- 'D': diamantes\n",
    "\n",
    "## Estilos de línea\n",
    "\n",
    "- '-': línea sólida\n",
    "- '--': línea discontinua\n",
    "- '-.': línea-punto\n",
    "- ':': línea punteada\n"
   ]
  }
 ],
 "metadata": {
  "language_info": {
   "name": "python"
  }
 },
 "nbformat": 4,
 "nbformat_minor": 5
}
