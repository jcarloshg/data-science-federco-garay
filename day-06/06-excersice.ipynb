{
 "cells": [
  {
   "cell_type": "markdown",
   "id": "c7f3350f-79ac-40e5-ac72-292c629ed062",
   "metadata": {},
   "source": [
    "# 01\n",
    "Crea dos series de pandas utilizando listas de Python.\n",
    "\n",
    "Puedes crear ambas series con los números enteros de tu elección solamente asegurate de que la serie 1 y la serie 2 las almacenes en variables nombradas: serie1 y serie2 respectivamente.\n",
    "\n",
    "Luego, suma ambas series y asigna el resultado a una variable llamada serie_sumada. Imprime el resultado de serie_sumada.\n"
   ]
  },
  {
   "cell_type": "code",
   "execution_count": 1,
   "id": "5963bd45-b227-4cf3-8d5f-2a1147399bd1",
   "metadata": {},
   "outputs": [
    {
     "data": {
      "text/plain": [
       "0     2\n",
       "1     4\n",
       "2     8\n",
       "3    16\n",
       "4    32\n",
       "dtype: int64"
      ]
     },
     "execution_count": 1,
     "metadata": {},
     "output_type": "execute_result"
    }
   ],
   "source": [
    "import pandas as pd\n",
    "serie1 = pd.Series([10,20,30,40,50])\n",
    "serie1\n",
    "serie2 = pd.Series([2, 4, 8, 16, 32])\n",
    "serie2"
   ]
  },
  {
   "cell_type": "code",
   "execution_count": 5,
   "id": "e8c2fc65-4602-457e-b9d7-0285c457be44",
   "metadata": {},
   "outputs": [
    {
     "data": {
      "text/plain": [
       "0    12\n",
       "1    24\n",
       "2    38\n",
       "3    56\n",
       "4    82\n",
       "dtype: int64"
      ]
     },
     "execution_count": 5,
     "metadata": {},
     "output_type": "execute_result"
    }
   ],
   "source": [
    "serie_sumada = serie1 + serie2\n",
    "serie_sumada"
   ]
  },
  {
   "cell_type": "code",
   "execution_count": 7,
   "id": "07f0ce39-255b-454b-8622-9499897ba4d4",
   "metadata": {},
   "outputs": [
    {
     "data": {
      "text/plain": [
       "0      20\n",
       "1      80\n",
       "2     240\n",
       "3     640\n",
       "4    1600\n",
       "dtype: int64"
      ]
     },
     "execution_count": 7,
     "metadata": {},
     "output_type": "execute_result"
    }
   ],
   "source": [
    "serie_multi = serie1 * serie2\n",
    "serie_multi"
   ]
  },
  {
   "cell_type": "markdown",
   "id": "ee2f4353-811a-4c4d-bd0a-b3c7cbb93cc8",
   "metadata": {},
   "source": [
    "# 02\n",
    "\n",
    "Dada una serie de pandas llamada serie_numerica que contienga los números de tu preferencia.\n",
    "Realiza las siguientes operaciones matemáticas y guarda los resultados en variables separadas:\n",
    "\n",
    "- Multiplica serie_numerica por 2 y guarda el resultado en serie_doble.\n",
    "- Divide serie_numerica por 10 y guarda el resultado en serie_dividida.\n",
    "\n",
    "Imprime los resultados de serie_doble y serie_dividida."
   ]
  },
  {
   "cell_type": "code",
   "execution_count": 10,
   "id": "db2cd1f1-5a8e-49cb-926a-4a4516ff7245",
   "metadata": {},
   "outputs": [
    {
     "data": {
      "text/plain": [
       "0     20\n",
       "1     40\n",
       "2     60\n",
       "3     80\n",
       "4    100\n",
       "dtype: int64"
      ]
     },
     "execution_count": 10,
     "metadata": {},
     "output_type": "execute_result"
    }
   ],
   "source": [
    "serie_doble = serie1 * 2\n",
    "serie_doble"
   ]
  },
  {
   "cell_type": "code",
   "execution_count": 13,
   "id": "232c6317-e1ec-44ad-8703-93fe106f0cc0",
   "metadata": {},
   "outputs": [
    {
     "data": {
      "text/plain": [
       "0    0.2\n",
       "1    0.4\n",
       "2    0.8\n",
       "3    1.6\n",
       "4    3.2\n",
       "dtype: float64"
      ]
     },
     "execution_count": 13,
     "metadata": {},
     "output_type": "execute_result"
    }
   ],
   "source": [
    "serie_dividida = serie2 / 10\n",
    "serie_dividida"
   ]
  },
  {
   "cell_type": "markdown",
   "id": "027e69f9-3ed5-4d5d-a5fc-0b88ec384508",
   "metadata": {},
   "source": [
    "# 03\n",
    "Considera una serie de pandas llamada serie_grande que contiene los números del 1 al 10 o mayor al 10. Obten su item 9 y haya su raiz cuadrada.\n",
    "\n",
    "Imprime el resultado.\n",
    "\n",
    "Observación:\n",
    "\n",
    "En estos ejercicios no tendrás el botón \"Ejecutar código\" por esta razón no podrás visualizar los datos generados. Si deseas visualizarlos podrás servirte de un cuaderno de Jupyter y luego probar el ejercicio con ayuda del botón: \"Ejecutar pruebas\""
   ]
  },
  {
   "cell_type": "code",
   "execution_count": 35,
   "id": "88319b72-bf9f-4c6b-b4d4-f97c4b750aa6",
   "metadata": {},
   "outputs": [
    {
     "data": {
      "text/plain": [
       "0     1\n",
       "1     2\n",
       "2     3\n",
       "3     4\n",
       "4     5\n",
       "5     6\n",
       "6     7\n",
       "7     8\n",
       "8     9\n",
       "9    10\n",
       "dtype: int64"
      ]
     },
     "execution_count": 35,
     "metadata": {},
     "output_type": "execute_result"
    }
   ],
   "source": [
    "serie_grande = pd.Series(list(range(1, 11)))\n",
    "serie_grande"
   ]
  },
  {
   "cell_type": "code",
   "execution_count": 36,
   "id": "c2b32685-c819-4dd9-930c-9ababdd559e7",
   "metadata": {},
   "outputs": [
    {
     "name": "stderr",
     "output_type": "stream",
     "text": [
      "C:\\Users\\carlo\\AppData\\Local\\Temp\\ipykernel_18956\\3286570071.py:2: FutureWarning: Setting an item of incompatible dtype is deprecated and will raise an error in a future version of pandas. Value '3.1622776601683795' has dtype incompatible with int64, please explicitly cast to a compatible dtype first.\n",
      "  serie_grande[9] = math.sqrt(serie_grande[9])\n"
     ]
    },
    {
     "data": {
      "text/plain": [
       "0    1.000000\n",
       "1    2.000000\n",
       "2    3.000000\n",
       "3    4.000000\n",
       "4    5.000000\n",
       "5    6.000000\n",
       "6    7.000000\n",
       "7    8.000000\n",
       "8    9.000000\n",
       "9    3.162278\n",
       "dtype: float64"
      ]
     },
     "execution_count": 36,
     "metadata": {},
     "output_type": "execute_result"
    }
   ],
   "source": [
    "import math\n",
    "serie_grande[9] = math.sqrt(serie_grande[9])\n",
    "serie_grande\n"
   ]
  }
 ],
 "metadata": {
  "kernelspec": {
   "display_name": "Python [conda env:base] *",
   "language": "python",
   "name": "conda-base-py"
  },
  "language_info": {
   "codemirror_mode": {
    "name": "ipython",
    "version": 3
   },
   "file_extension": ".py",
   "mimetype": "text/x-python",
   "name": "python",
   "nbconvert_exporter": "python",
   "pygments_lexer": "ipython3",
   "version": "3.13.5"
  }
 },
 "nbformat": 4,
 "nbformat_minor": 5
}
