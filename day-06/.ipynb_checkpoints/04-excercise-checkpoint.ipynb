{
 "cells": [
  {
   "cell_type": "markdown",
   "id": "5200ebf3-ac56-47d3-9873-279d1d4cbe9d",
   "metadata": {},
   "source": [
    "# 01\n",
    "Crea una serie en Pandas a partir de la siguiente lista de números: [4, 7, -5, 3]. Llama a esta serie mi_serie. Imprime mi_serie para ver el resultado."
   ]
  },
  {
   "cell_type": "code",
   "execution_count": 2,
   "id": "84a2ed20-dbf2-43aa-b14e-803aa816e82b",
   "metadata": {},
   "outputs": [
    {
     "data": {
      "text/plain": [
       "0    4\n",
       "1    7\n",
       "2   -5\n",
       "3    3\n",
       "dtype: int64"
      ]
     },
     "execution_count": 2,
     "metadata": {},
     "output_type": "execute_result"
    }
   ],
   "source": [
    "import pandas as pd\n",
    "mi_serie = pd.Series([4, 7, -5, 3])\n",
    "mi_serie"
   ]
  },
  {
   "cell_type": "markdown",
   "id": "35be051c-52a9-4805-b923-3fa994c6a9d3",
   "metadata": {},
   "source": [
    "# 02\n",
    "1. Crea una serie en Pandas a partir de la lista [10, 20, 30, 40] con índices personalizados ['a', 'b', 'c', 'd']. Llama a esta serie serie_con_indices.\n",
    "2. Crea una variable llamada valor_c  donde almacenes el valor asociado al índice 'c'\n",
    "3. Crea una función llamada imprimir_valor_c  que se capaz de mostrar el valor asociado al índice 'c'."
   ]
  },
  {
   "cell_type": "code",
   "execution_count": 9,
   "id": "75cdf715-35e9-42c4-9232-65923ddfb513",
   "metadata": {},
   "outputs": [
    {
     "name": "stdout",
     "output_type": "stream",
     "text": [
      "30\n"
     ]
    }
   ],
   "source": [
    "serie_con_indices = pd.Series([10, 20, 30, 40],['a', 'b', 'c', 'd'])\n",
    "serie_con_indices\n",
    "valor_c = serie_con_indices[\"c\"]\n",
    "valor_c\n",
    "\n",
    "def imprimir_valor_c(index):\n",
    "    valor_c = serie_con_indices[index]\n",
    "    print(valor_c)\n",
    "\n",
    "imprimir_valor_c(\"c\")"
   ]
  },
  {
   "cell_type": "markdown",
   "id": "d73e4766-1924-4c07-bc65-ccebb16878ce",
   "metadata": {},
   "source": [
    "# 03\n",
    "1. Utiliza el diccionario {'a': 30, 'b': 70, 'c': 160, 'd': 50} para crear una serie en Pandas, la cual llamarás serie_desde_diccionario.\n",
    "2. Luego, accede a los valores asociados a los índices 'a' y 'd', sumándolos.\n",
    "3. Almacena esta suma en la variable suma_ad\n",
    "4. Crea una función llamada: imprimir_suma_ad() que se encargue de imprimir el valor de suma_ad"
   ]
  },
  {
   "cell_type": "code",
   "execution_count": 11,
   "id": "cfb4e4dd-1062-4df6-b9f6-b78009645c59",
   "metadata": {},
   "outputs": [
    {
     "name": "stdout",
     "output_type": "stream",
     "text": [
      "100\n"
     ]
    }
   ],
   "source": [
    "serie_desde_diccionario = pd.Series({'a': 30, 'b': 70, 'c': 160, 'd': 50})\n",
    "suma_ad = serie_desde_diccionario[\"a\"] + serie_desde_diccionario[\"b\"]\n",
    "suma_ad\n",
    "\n",
    "def imprimir_suma_ad():\n",
    "    suma_ad = serie_desde_diccionario[\"a\"] + serie_desde_diccionario[\"b\"]\n",
    "    print(suma_ad)\n",
    "\n",
    "imprimir_suma_ad()"
   ]
  }
 ],
 "metadata": {
  "kernelspec": {
   "display_name": "Python [conda env:base] *",
   "language": "python",
   "name": "conda-base-py"
  },
  "language_info": {
   "codemirror_mode": {
    "name": "ipython",
    "version": 3
   },
   "file_extension": ".py",
   "mimetype": "text/x-python",
   "name": "python",
   "nbconvert_exporter": "python",
   "pygments_lexer": "ipython3",
   "version": "3.13.5"
  }
 },
 "nbformat": 4,
 "nbformat_minor": 5
}
