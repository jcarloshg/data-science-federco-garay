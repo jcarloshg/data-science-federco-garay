{
 "cells": [
  {
   "cell_type": "markdown",
   "id": "bbfa0349-c7d5-4816-9020-8552d0ec666f",
   "metadata": {},
   "source": [
    "# Agregación de Series en Pandas 1\n",
    "Crea una serie de Pandas a partir de la siguiente lista de ``edades = [23, 30, 26, 27, 22, 24, 25, 28]``. \n",
    "Luego, utiliza la función adecuada para calcular el promedio de estas edades. Almacena el promedio en una variable llamada: ``promedio_edades``"
   ]
  },
  {
   "cell_type": "code",
   "execution_count": 2,
   "id": "ec93facf-2557-4dbf-811c-efc5a123d5c4",
   "metadata": {},
   "outputs": [
    {
     "data": {
      "text/plain": [
       "0    23\n",
       "1    30\n",
       "2    26\n",
       "3    27\n",
       "4    22\n",
       "5    24\n",
       "6    25\n",
       "7    28\n",
       "dtype: int64"
      ]
     },
     "execution_count": 2,
     "metadata": {},
     "output_type": "execute_result"
    }
   ],
   "source": [
    "import pandas as pd\n",
    "edades = [23, 30, 26, 27, 22, 24, 25, 28]\n",
    "edades_series = pd.Series(edades)\n",
    "edades_series\n",
    "# promedio_edades"
   ]
  },
  {
   "cell_type": "code",
   "execution_count": 3,
   "id": "34275941-3a02-4168-9446-0e27ecf63562",
   "metadata": {},
   "outputs": [
    {
     "data": {
      "text/plain": [
       "np.float64(25.625)"
      ]
     },
     "execution_count": 3,
     "metadata": {},
     "output_type": "execute_result"
    }
   ],
   "source": [
    "promedio_edades = edades_series.mean()\n",
    "promedio_edades"
   ]
  },
  {
   "cell_type": "code",
   "execution_count": null,
   "id": "f2105387-e56d-45b7-a559-9085d2295304",
   "metadata": {},
   "outputs": [],
   "source": []
  }
 ],
 "metadata": {
  "kernelspec": {
   "display_name": "Python [conda env:base] *",
   "language": "python",
   "name": "conda-base-py"
  },
  "language_info": {
   "codemirror_mode": {
    "name": "ipython",
    "version": 3
   },
   "file_extension": ".py",
   "mimetype": "text/x-python",
   "name": "python",
   "nbconvert_exporter": "python",
   "pygments_lexer": "ipython3",
   "version": "3.13.5"
  }
 },
 "nbformat": 4,
 "nbformat_minor": 5
}
