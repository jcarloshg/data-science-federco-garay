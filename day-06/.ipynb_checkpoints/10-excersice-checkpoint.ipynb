{
 "cells": [
  {
   "cell_type": "markdown",
   "id": "e1c5d5a6-3e18-4ace-8c90-599cb54a114a",
   "metadata": {},
   "source": [
    "# Filtrado de Series en Pandas 1\n",
    "Crea una serie de Pandas llamada:  ``serie_numeros``   que contenga los números del 1 al 20.\n",
    "\n",
    "Luego, escribe un código que filtre y muestre solo aquellos números que sean mayores que 10.\n",
    "\n",
    "Utiliza una variable llamada ``filtro`` para almacenar la serie  filtrada."
   ]
  },
  {
   "cell_type": "code",
   "execution_count": 2,
   "id": "8de81a4b-c1a9-4a35-bcb9-0016cd20c302",
   "metadata": {},
   "outputs": [
    {
     "data": {
      "text/plain": [
       "0      1\n",
       "1      2\n",
       "2      3\n",
       "3      4\n",
       "4      5\n",
       "5      6\n",
       "6      7\n",
       "7      8\n",
       "8      9\n",
       "9     10\n",
       "10    11\n",
       "11    12\n",
       "12    13\n",
       "13    14\n",
       "14    15\n",
       "15    16\n",
       "16    17\n",
       "17    18\n",
       "18    19\n",
       "19    20\n",
       "dtype: int64"
      ]
     },
     "execution_count": 2,
     "metadata": {},
     "output_type": "execute_result"
    }
   ],
   "source": [
    "import pandas as pd\n",
    "numbers = list(range(1,21))\n",
    "serie_numeros = pd.Series(numbers)\n",
    "serie_numeros"
   ]
  },
  {
   "cell_type": "code",
   "execution_count": 3,
   "id": "8ca77518-0c25-4819-a6cf-43854292f315",
   "metadata": {},
   "outputs": [
    {
     "data": {
      "text/plain": [
       "10    11\n",
       "11    12\n",
       "12    13\n",
       "13    14\n",
       "14    15\n",
       "15    16\n",
       "16    17\n",
       "17    18\n",
       "18    19\n",
       "19    20\n",
       "dtype: int64"
      ]
     },
     "execution_count": 3,
     "metadata": {},
     "output_type": "execute_result"
    }
   ],
   "source": [
    "filter_major_than_10 = serie_numeros > 10\n",
    "filtro = serie_numeros[filter_major_than_10]\n",
    "filtro"
   ]
  },
  {
   "cell_type": "markdown",
   "id": "df04c6f8-daa5-4d92-9cab-742ba983fb23",
   "metadata": {},
   "source": [
    "# Filtrado de Series en Pandas 2\n",
    "Dada una serie de Pandas que contiene los siguientes valores: ``[18, 22, 7, 9, 15, 8]``, filtra y muestra solo aquellos valores que sean pares.\n",
    "\n",
    "1. Primero, crea una serie de valores booleanos que represente la condición. Nombra a esta variable como: ``condicion_valores_pares``\n",
    "2. Luego aplica esta serie para filtrar los valores originales.\n"
   ]
  },
  {
   "cell_type": "code",
   "execution_count": 4,
   "id": "7a11204b-74ad-48e4-85c2-3819e4b049c0",
   "metadata": {},
   "outputs": [
    {
     "data": {
      "text/plain": [
       "0    18\n",
       "1    22\n",
       "2     7\n",
       "3     9\n",
       "4    15\n",
       "5     8\n",
       "dtype: int64"
      ]
     },
     "execution_count": 4,
     "metadata": {},
     "output_type": "execute_result"
    }
   ],
   "source": [
    "import pandas as pd\n",
    "serie2 = pd.Series([18, 22, 7, 9, 15, 8])\n",
    "serie2"
   ]
  },
  {
   "cell_type": "code",
   "execution_count": 5,
   "id": "5d3e8bb3-20be-4076-80f7-e53cb2a6a1b7",
   "metadata": {},
   "outputs": [
    {
     "data": {
      "text/plain": [
       "0    18\n",
       "1    22\n",
       "5     8\n",
       "dtype: int64"
      ]
     },
     "execution_count": 5,
     "metadata": {},
     "output_type": "execute_result"
    }
   ],
   "source": [
    "condicion_valores_pares = serie2 % 2 == 0\n",
    "serie2[condicion_valores_pares]"
   ]
  },
  {
   "cell_type": "markdown",
   "id": "6f19436d-f281-4e81-8fa6-d0230c44bff0",
   "metadata": {},
   "source": [
    "# Filtrado de Series en Pandas 3\n",
    "\n",
    "Crea una serie de Pandas llamada frutas y que contenga los siguientes elementos: ``[\"manzana\", \"banana\", \"cereza\", \"durazno\", \"frambuesa\"]``.\n",
    "\n",
    "Escribe un código que filtre y muestre solo aquellos elementos que contengan la letra \"e\" en su nombre. Almacena los elementos filtrados en una variable llamada ``frutas_con_e``\n",
    "\n",
    "Utiliza una condición que aplique un método de strings para lograr este filtrado."
   ]
  },
  {
   "cell_type": "code",
   "execution_count": 13,
   "id": "7415dec5-888a-4a9c-bba6-0a5e2cb536d4",
   "metadata": {},
   "outputs": [
    {
     "data": {
      "text/plain": [
       "2       cereza\n",
       "4    frambuesa\n",
       "dtype: object"
      ]
     },
     "execution_count": 13,
     "metadata": {},
     "output_type": "execute_result"
    }
   ],
   "source": [
    "import pandas as pd\n",
    "frutas_serie = pd.Series([\"manzana\", \"banana\", \"cereza\", \"durazno\", \"frambuesa\"])\n",
    "frutas_serie_filter = frutas_serie.str.contains('e')\n",
    "frutas_serie[frutas_serie_filter]"
   ]
  }
 ],
 "metadata": {
  "kernelspec": {
   "display_name": "Python [conda env:base] *",
   "language": "python",
   "name": "conda-base-py"
  },
  "language_info": {
   "codemirror_mode": {
    "name": "ipython",
    "version": 3
   },
   "file_extension": ".py",
   "mimetype": "text/x-python",
   "name": "python",
   "nbconvert_exporter": "python",
   "pygments_lexer": "ipython3",
   "version": "3.13.5"
  }
 },
 "nbformat": 4,
 "nbformat_minor": 5
}
