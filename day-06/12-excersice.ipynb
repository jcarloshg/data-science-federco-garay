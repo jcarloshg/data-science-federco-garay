{
 "cells": [
  {
   "cell_type": "markdown",
   "id": "bbfa0349-c7d5-4816-9020-8552d0ec666f",
   "metadata": {},
   "source": [
    "# Agregación de Series en Pandas 1\n",
    "Crea una serie de Pandas a partir de la siguiente lista de ``edades = [23, 30, 26, 27, 22, 24, 25, 28]``. \n",
    "Luego, utiliza la función adecuada para calcular el promedio de estas edades. Almacena el promedio en una variable llamada: ``promedio_edades``"
   ]
  },
  {
   "cell_type": "code",
   "execution_count": 2,
   "id": "ec93facf-2557-4dbf-811c-efc5a123d5c4",
   "metadata": {},
   "outputs": [
    {
     "data": {
      "text/plain": [
       "0    23\n",
       "1    30\n",
       "2    26\n",
       "3    27\n",
       "4    22\n",
       "5    24\n",
       "6    25\n",
       "7    28\n",
       "dtype: int64"
      ]
     },
     "execution_count": 2,
     "metadata": {},
     "output_type": "execute_result"
    }
   ],
   "source": [
    "import pandas as pd\n",
    "edades = [23, 30, 26, 27, 22, 24, 25, 28]\n",
    "edades_series = pd.Series(edades)\n",
    "edades_series\n",
    "# promedio_edades"
   ]
  },
  {
   "cell_type": "code",
   "execution_count": 3,
   "id": "34275941-3a02-4168-9446-0e27ecf63562",
   "metadata": {},
   "outputs": [
    {
     "data": {
      "text/plain": [
       "np.float64(25.625)"
      ]
     },
     "execution_count": 3,
     "metadata": {},
     "output_type": "execute_result"
    }
   ],
   "source": [
    "promedio_edades = edades_series.mean()\n",
    "promedio_edades"
   ]
  },
  {
   "cell_type": "markdown",
   "id": "0b6130e4-9de4-47b1-8b38-77ec3b0e8afb",
   "metadata": {},
   "source": [
    "# Agregación de Series en Pandas 2\n",
    "Dada lista con los siguientes valores de ventas diarias de una tienda en una semana:\n",
    "\n",
    "``ventas = [120, 150, 90, 200, 210, 130, 160]``, realiza las siguientes tareas:\n",
    "\n",
    "1. Crea una serie de Pandas con los días de la semana como índice  (asumiendo que el primer valor corresponde al Lunes).\n",
    "2. Calcula y muestra la suma total de las ventas de la semana. Almacena este valor en una variable llamada: ``suma_total_ventas``\n",
    "3. Encuentra y muestra el día de mayores ventas. Almacena este valor en una variable llamada: ``dia_mayores_ventas``\n",
    "4. Calcula y muestra el promedio de ventas de la semana. Almacena este valor en una variable llamada: promedio_ventas"
   ]
  },
  {
   "cell_type": "code",
   "execution_count": 5,
   "id": "f108ff67-07ad-46ba-aacd-97167bddf76d",
   "metadata": {},
   "outputs": [
    {
     "data": {
      "text/plain": [
       "Monday       120\n",
       "Tuesday      150\n",
       "Wednesday     90\n",
       "Thursday     200\n",
       "Friday       210\n",
       "Saturday     130\n",
       "Sunday       160\n",
       "dtype: int64"
      ]
     },
     "execution_count": 5,
     "metadata": {},
     "output_type": "execute_result"
    }
   ],
   "source": [
    "import pandas as pd\n",
    "ventas = [120, 150, 90, 200, 210, 130, 160]\n",
    "days = [\"Monday\", \"Tuesday\", \"Wednesday\", \"Thursday\", \"Friday\", \"Saturday\", \"Sunday\"]\n",
    "ventas_series = pd.Series(ventas,days)\n",
    "ventas_series"
   ]
  },
  {
   "cell_type": "code",
   "execution_count": 16,
   "id": "ae34b206-79a8-4e9a-b78d-37dce1dcd6e6",
   "metadata": {},
   "outputs": [
    {
     "data": {
      "text/plain": [
       "np.int64(1060)"
      ]
     },
     "execution_count": 16,
     "metadata": {},
     "output_type": "execute_result"
    }
   ],
   "source": [
    "suma_total_ventas = ventas_series.sum()\n",
    "suma_total_ventas"
   ]
  },
  {
   "cell_type": "code",
   "execution_count": 17,
   "id": "b291910b-4a0b-4a37-ad8a-ebee9aa37fc2",
   "metadata": {},
   "outputs": [
    {
     "data": {
      "text/plain": [
       "Monday       120\n",
       "Tuesday      150\n",
       "Wednesday     90\n",
       "Thursday     200\n",
       "Friday       210\n",
       "Saturday     130\n",
       "Sunday       160\n",
       "dtype: int64"
      ]
     },
     "execution_count": 17,
     "metadata": {},
     "output_type": "execute_result"
    }
   ],
   "source": [
    "dia_mayores_ventas = ventas_series\n",
    "dia_mayores_ventas"
   ]
  },
  {
   "cell_type": "code",
   "execution_count": 21,
   "id": "33d34724-cddd-4a8f-b0c5-a72d52b91bdc",
   "metadata": {},
   "outputs": [
    {
     "data": {
      "text/plain": [
       "'Friday'"
      ]
     },
     "execution_count": 21,
     "metadata": {},
     "output_type": "execute_result"
    }
   ],
   "source": [
    "dia_mayores_ventas = ventas_series.idxmax()\n",
    "dia_mayores_ventas"
   ]
  },
  {
   "cell_type": "code",
   "execution_count": 22,
   "id": "4d04c4a9-71a6-4419-9ca4-0cec415fc77e",
   "metadata": {},
   "outputs": [
    {
     "data": {
      "text/plain": [
       "np.float64(151.42857142857142)"
      ]
     },
     "execution_count": 22,
     "metadata": {},
     "output_type": "execute_result"
    }
   ],
   "source": [
    "promedio_ventas = ventas_series.mean()\n",
    "promedio_ventas"
   ]
  },
  {
   "cell_type": "markdown",
   "id": "9ef1e09c-40e5-407b-b05b-a3000d2af845",
   "metadata": {},
   "source": [
    "# Agregación de Series en Pandas 3\n",
    "Considera una serie de Pandas que representa las ventas de un mes, donde cada valor corresponde a las ventas de un día específico. No modifiques la serie de Pandas brindada en el ejercicio.\n",
    "\n",
    "Realiza las siguientes operaciones y muestra los resultados empleando los métodos correspondientes:\n",
    "\n",
    "\n",
    "\n",
    "1. Calcula el total de ventas del mes. Almacena su valor en una variable llamada: ``total_ventas_mes``\n",
    "2. Encuentra el día con las ventas más bajas. Almacena su valor en una variable llamada: dia_ventas_mas_bajas\n",
    "3. Determina el promedio mensual de ventas.  Almacena su valor en una variable llamada: promedio_ventas_mes"
   ]
  },
  {
   "cell_type": "code",
   "execution_count": 25,
   "id": "4eab13e3-56e3-49e4-b92f-94712c879ba2",
   "metadata": {},
   "outputs": [],
   "source": [
    "import pandas as pd\n",
    "\n",
    "\n",
    "ventas_mes = pd.Series([220, 235, 260, 213, 202, 298, 265, 198, 220, 230, 190, 215, 275, 222, 218, 245, 233, 210, 290, 210,\n",
    "                        215, 220, 225, 230, 245, 250, 260, 270, 280, 295])"
   ]
  },
  {
   "cell_type": "code",
   "execution_count": 26,
   "id": "4bab63bb-0d8a-4a33-adb7-d04eda222d09",
   "metadata": {},
   "outputs": [
    {
     "data": {
      "text/plain": [
       "np.int64(7139)"
      ]
     },
     "execution_count": 26,
     "metadata": {},
     "output_type": "execute_result"
    }
   ],
   "source": [
    "total_ventas_mes = ventas_mes.sum()\n",
    "total_ventas_mes"
   ]
  },
  {
   "cell_type": "code",
   "execution_count": 30,
   "id": "04d54cb9-a73c-4da8-9d46-0618f5102193",
   "metadata": {},
   "outputs": [
    {
     "data": {
      "text/plain": [
       "12"
      ]
     },
     "execution_count": 30,
     "metadata": {},
     "output_type": "execute_result"
    }
   ],
   "source": [
    "# we sum 1, because the day 0 doesn't exist\n",
    "dia_ventas_mas_bajas = ventas_mes.idxmin() + 1\n",
    "dia_ventas_mas_bajas + 1"
   ]
  },
  {
   "cell_type": "code",
   "execution_count": 31,
   "id": "0f6a2916-a10a-4db7-be3d-dee2ce8ae10d",
   "metadata": {},
   "outputs": [
    {
     "data": {
      "text/plain": [
       "np.float64(237.96666666666667)"
      ]
     },
     "execution_count": 31,
     "metadata": {},
     "output_type": "execute_result"
    }
   ],
   "source": [
    "promedio_ventas_mes = ventas_mes.mean()\n",
    "promedio_ventas_mes"
   ]
  }
 ],
 "metadata": {
  "kernelspec": {
   "display_name": "Python [conda env:base] *",
   "language": "python",
   "name": "conda-base-py"
  },
  "language_info": {
   "codemirror_mode": {
    "name": "ipython",
    "version": 3
   },
   "file_extension": ".py",
   "mimetype": "text/x-python",
   "name": "python",
   "nbconvert_exporter": "python",
   "pygments_lexer": "ipython3",
   "version": "3.13.5"
  }
 },
 "nbformat": 4,
 "nbformat_minor": 5
}
