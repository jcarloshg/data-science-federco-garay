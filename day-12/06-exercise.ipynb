{
 "cells": [
  {
   "cell_type": "markdown",
   "id": "5897d5d7",
   "metadata": {},
   "source": [
    "# Descomposición en Valores Singulares (SVD) en Machine Learning\n",
    "\n",
    "En este ejercicio aprenderás a realizar la **Descomposición en Valores Singulares (SVD)** utilizando la biblioteca **NumPy** sobre la matriz:\n",
    "\n",
    "\\[\n",
    "A = \\begin{bmatrix}\n",
    "1 & 2 \\\\\n",
    "3 & 4 \\\\\n",
    "5 & 6 \\\\\n",
    "\\end{bmatrix}\n",
    "\\]\n",
    "\n",
    "El objetivo es obtener las matrices **U**, **Σ** y **V<sup>T</sup>** y guardarlas en las variables `U`, `S` y `VT`, respectivamente.\n",
    "\n",
    "---\n",
    "\n",
    "## Pasos sugeridos\n",
    "\n",
    "1. **Importar** la biblioteca `NumPy`.\n",
    "2. **Definir** la matriz `A`.\n",
    "3. **Calcular** la descomposición SVD usando `numpy.linalg.svd`.\n",
    "4. **Guardar** las matrices resultantes en las variables `U`, `S` y `VT`.\n",
    "\n",
    "> 💡 **Recuerda:** Importa todos los módulos necesarios para que tu código funcione correctamente."
   ]
  },
  {
   "cell_type": "code",
   "execution_count": null,
   "id": "03015e87",
   "metadata": {},
   "outputs": [
    {
     "name": "stdout",
     "output_type": "stream",
     "text": [
      "U:\n",
      " [[-0.40455358 -0.9145143 ]\n",
      " [-0.9145143   0.40455358]]\n",
      "S:\n",
      " [5.4649857  0.36596619]\n",
      "VT:\n",
      " [[-0.57604844 -0.81741556]\n",
      " [ 0.81741556 -0.57604844]]\n"
     ]
    }
   ],
   "source": [
    "import numpy as np\n",
    "\n",
    "A = np.array([[1, 2], [3, 4]])\n",
    "\n",
    "u, s, vt = np.linalg.svd(A)\n",
    "\n",
    "print(\"U:\\n\", u)\n",
    "print(\"S:\\n\", s)\n",
    "print(\"VT:\\n\", vt)"
   ]
  },
  {
   "cell_type": "markdown",
   "id": "4701bb12",
   "metadata": {},
   "source": [
    "# Descomposición de Valores Singulares (SVD) en Machine Learning (Parte 2)\n",
    "\n",
    "Dada la matriz:\n",
    "\n",
    "\\[\n",
    "B = \\begin{bmatrix}\n",
    "1 & 1 & 0 \\\\\n",
    "0 & 1 & 1 \\\\\n",
    "1 & 0 & 1 \\\\\n",
    "\\end{bmatrix}\n",
    "\\]\n",
    "\n",
    "realiza su descomposición SVD y encuentra los valores singulares (`s`). Crea una lista llamada `valores_singulares` que contenga los valores singulares ordenados de mayor a menor.\n",
    "\n",
    "---\n",
    "\n",
    "### Pasos sugeridos\n",
    "\n",
    "1. **Importar** la biblioteca `NumPy`.\n",
    "2. **Definir** la matriz `B`.\n",
    "3. **Calcular** la descomposición SVD usando `numpy.linalg.svd`.\n",
    "4. **Guardar** las matrices resultantes en las variables `u`, `s` y `vt`.\n",
    "5. **Ordenar** los valores singulares de mayor a menor y almacenarlos en la lista `valores_singulares` usando `sorted(s, reverse=True)`.\n",
    "\n",
    "> 💡 **Recuerda:** Importa los módulos necesarios para que tu código funcione correctamente."
   ]
  },
  {
   "cell_type": "code",
   "execution_count": null,
   "id": "30100c00",
   "metadata": {},
   "outputs": [
    {
     "data": {
      "text/plain": [
       "[np.float64(2.0), np.float64(1.0), np.float64(0.9999999999999999)]"
      ]
     },
     "execution_count": 10,
     "metadata": {},
     "output_type": "execute_result"
    }
   ],
   "source": [
    "import numpy as np\n",
    "\n",
    "B = np.array([[1, 1, 0], [0, 1, 1], [1, 0, 1]])\n",
    "u, s, vt = np.linalg.svd(B)\n",
    "\n",
    "valores_singulares = sorted(s, reverse=True)\n",
    "valores_singulares"
   ]
  },
  {
   "cell_type": "markdown",
   "id": "90e07cf0",
   "metadata": {},
   "source": [
    "# Descomposición de Valores Singulares (SVD) en Machine Learning (Parte 3)\n",
    "\n",
    "Utilizando la técnica de **Descomposición en Valores Singulares (SVD)**, aplica reducción de dimensionalidad a la siguiente matriz:\n",
    "\n",
    "\\[\n",
    "C = \\begin{bmatrix}\n",
    "1 & 0 & 1 & 0 \\\\\n",
    "0 & 1 & 0 & 1 \\\\\n",
    "1 & 1 & 1 & 1 \\\\\n",
    "\\end{bmatrix}\n",
    "\\]\n",
    "\n",
    "El objetivo es **reducir sus dimensiones a dos**. Después de realizar la descomposición SVD, multiplica las dos primeras columnas de la matriz $\\mathbf{U}$ por los dos primeros valores singulares correspondientes. Guarda el resultado en una variable llamada `C_transformado`.\n",
    "\n",
    "---\n",
    "\n",
    "## Pasos sugeridos\n",
    "\n",
    "1. **Importar** la biblioteca `NumPy`.\n",
    "2. **Definir** la matriz `C`.\n",
    "3. **Calcular** la descomposición SVD usando `numpy.linalg.svd`.\n",
    "4. **Guardar** las matrices resultantes en las variables `u`, `s` y `vt`.\n",
    "5. **Reducir a dos dimensiones** utilizando las dos primeras componentes principales ($k=2$).\n",
    "6. **Multiplicar** cada una de las primeras $k$ columnas de `u` por los correspondientes valores singulares `s`.\n",
    "7. **Guardar** el resultado en la variable `C_transformado`.\n",
    "\n",
    "> 💡 **Recuerda:** Importa los módulos de Python necesarios para que tu código funcione correctamente."
   ]
  },
  {
   "cell_type": "code",
   "execution_count": 12,
   "id": "97e64bb5",
   "metadata": {},
   "outputs": [
    {
     "data": {
      "text/plain": [
       "array([[ 1.00000000e+00,  1.00000000e+00],\n",
       "       [ 1.00000000e+00, -1.00000000e+00],\n",
       "       [ 2.00000000e+00, -1.57009246e-16]])"
      ]
     },
     "execution_count": 12,
     "metadata": {},
     "output_type": "execute_result"
    }
   ],
   "source": [
    "import numpy as np\n",
    "\n",
    "C = [[1, 0, 1, 0], [0, 1, 0, 1], [1, 1, 1, 1]]\n",
    "u, s, vt = np.linalg.svd(C)\n",
    "\n",
    "K = 2\n",
    "C_transformado = u[:, :K] * s[:K]\n",
    "C_transformado"
   ]
  }
 ],
 "metadata": {
  "kernelspec": {
   "display_name": "base",
   "language": "python",
   "name": "python3"
  },
  "language_info": {
   "codemirror_mode": {
    "name": "ipython",
    "version": 3
   },
   "file_extension": ".py",
   "mimetype": "text/x-python",
   "name": "python",
   "nbconvert_exporter": "python",
   "pygments_lexer": "ipython3",
   "version": "3.13.5"
  }
 },
 "nbformat": 4,
 "nbformat_minor": 5
}
