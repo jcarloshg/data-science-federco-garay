{
 "cells": [
  {
   "cell_type": "markdown",
   "id": "4ee32cd4-7a80-40d5-8705-96bb154c1578",
   "metadata": {},
   "source": [
    "# Acceder a Elementos del DataFrame con 'Ioc' e 'iloc' 1\n",
    "Utiliza loc para seleccionar los datos de la fila denominada \"fila2\" en el siguiente DataFrame df.  Tu resultado debe ser una Serie de Pandas llamada resultado\n",
    "\n",
    "```python\n",
    "df = pd.DataFrame({\n",
    "    'Nombre': ['Ana', 'Luis', 'Carmen'],\n",
    "    'Edad': [25, 30, 22],\n",
    "    'Ciudad': ['Madrid', 'Barcelona', 'Valencia']\n",
    "}, index=['fila1', 'fila2', 'fila3'])\n",
    "```"
   ]
  },
  {
   "cell_type": "code",
   "execution_count": 3,
   "id": "1029c267-bc00-4d36-a220-d049d370ec34",
   "metadata": {},
   "outputs": [
    {
     "data": {
      "text/plain": [
       "Nombre         Luis\n",
       "Edad             30\n",
       "Ciudad    Barcelona\n",
       "Name: fila2, dtype: object"
      ]
     },
     "execution_count": 3,
     "metadata": {},
     "output_type": "execute_result"
    }
   ],
   "source": [
    "import pandas as pd\n",
    "df = pd.DataFrame({\n",
    "    'Nombre': ['Ana', 'Luis', 'Carmen'],\n",
    "    'Edad': [25, 30, 22],\n",
    "    'Ciudad': ['Madrid', 'Barcelona', 'Valencia']\n",
    "}, index=['fila1', 'fila2', 'fila3'])\n",
    "resultado = df.loc['fila2']\n",
    "resultado"
   ]
  },
  {
   "cell_type": "markdown",
   "id": "3bd65bd3-fd19-4590-9e1e-ff9788d26caa",
   "metadata": {},
   "source": [
    "# Acceder a Elementos del DataFrame con 'Ioc' e 'iloc' 2\n",
    "Utiliza loc para seleccionar las filas \"fila1\" y \"fila3\" del DataFrame df. Tu resultado debe ser un DataFrame nombrado resultado.\n",
    "\n",
    "```python\n",
    "df = pd.DataFrame({\n",
    "    'Nombre': ['Ana', 'Luis', 'Carmen'],\n",
    "    'Edad': [25, 30, 22],\n",
    "    'Ciudad': ['Madrid', 'Barcelona', 'Valencia']\n",
    "}, index=['fila1', 'fila2', 'fila3'])\n",
    "```"
   ]
  },
  {
   "cell_type": "code",
   "execution_count": 5,
   "id": "321a584e-089f-4e75-beef-fbcf57f03e53",
   "metadata": {},
   "outputs": [
    {
     "data": {
      "text/html": [
       "<div>\n",
       "<style scoped>\n",
       "    .dataframe tbody tr th:only-of-type {\n",
       "        vertical-align: middle;\n",
       "    }\n",
       "\n",
       "    .dataframe tbody tr th {\n",
       "        vertical-align: top;\n",
       "    }\n",
       "\n",
       "    .dataframe thead th {\n",
       "        text-align: right;\n",
       "    }\n",
       "</style>\n",
       "<table border=\"1\" class=\"dataframe\">\n",
       "  <thead>\n",
       "    <tr style=\"text-align: right;\">\n",
       "      <th></th>\n",
       "      <th>Nombre</th>\n",
       "      <th>Edad</th>\n",
       "      <th>Ciudad</th>\n",
       "    </tr>\n",
       "  </thead>\n",
       "  <tbody>\n",
       "    <tr>\n",
       "      <th>fila1</th>\n",
       "      <td>Ana</td>\n",
       "      <td>25</td>\n",
       "      <td>Madrid</td>\n",
       "    </tr>\n",
       "    <tr>\n",
       "      <th>fila3</th>\n",
       "      <td>Carmen</td>\n",
       "      <td>22</td>\n",
       "      <td>Valencia</td>\n",
       "    </tr>\n",
       "  </tbody>\n",
       "</table>\n",
       "</div>"
      ],
      "text/plain": [
       "       Nombre  Edad    Ciudad\n",
       "fila1     Ana    25    Madrid\n",
       "fila3  Carmen    22  Valencia"
      ]
     },
     "execution_count": 5,
     "metadata": {},
     "output_type": "execute_result"
    }
   ],
   "source": [
    "import pandas as pd\n",
    "\n",
    "df = pd.DataFrame({\n",
    "    'Nombre': ['Ana', 'Luis', 'Carmen'],\n",
    "    'Edad': [25, 30, 22],\n",
    "    'Ciudad': ['Madrid', 'Barcelona', 'Valencia']\n",
    "}, index=['fila1', 'fila2', 'fila3'])\n",
    "\n",
    "resultado = df.loc[['fila1','fila3']]\n",
    "resultado"
   ]
  },
  {
   "cell_type": "markdown",
   "id": "c7583fc2-1b04-46ac-a120-5e247429cdc6",
   "metadata": {},
   "source": [
    "# Acceder a Elementos del DataFrame con 'Ioc' e 'iloc' 3\n",
    "Utiliza iloc para seleccionar las primeras dos filas y las últimas dos columnas del siguiente DataFrame df. El resultado debe ser un DataFrame llamado resultado\n",
    "\n",
    "```python\n",
    "df = pd.DataFrame({\n",
    "    'A': [1, 2, 3, 4],\n",
    "    'B': [5, 6, 7, 8],\n",
    "    'C': [9, 10, 11, 12],\n",
    "    'D': [13, 14, 15, 16]\n",
    "})\n",
    "```"
   ]
  },
  {
   "cell_type": "code",
   "execution_count": 11,
   "id": "4d597fd2-6349-41b3-8fd0-961c12be4944",
   "metadata": {},
   "outputs": [
    {
     "data": {
      "text/html": [
       "<div>\n",
       "<style scoped>\n",
       "    .dataframe tbody tr th:only-of-type {\n",
       "        vertical-align: middle;\n",
       "    }\n",
       "\n",
       "    .dataframe tbody tr th {\n",
       "        vertical-align: top;\n",
       "    }\n",
       "\n",
       "    .dataframe thead th {\n",
       "        text-align: right;\n",
       "    }\n",
       "</style>\n",
       "<table border=\"1\" class=\"dataframe\">\n",
       "  <thead>\n",
       "    <tr style=\"text-align: right;\">\n",
       "      <th></th>\n",
       "      <th>C</th>\n",
       "      <th>D</th>\n",
       "    </tr>\n",
       "  </thead>\n",
       "  <tbody>\n",
       "    <tr>\n",
       "      <th>0</th>\n",
       "      <td>9</td>\n",
       "      <td>13</td>\n",
       "    </tr>\n",
       "    <tr>\n",
       "      <th>1</th>\n",
       "      <td>10</td>\n",
       "      <td>14</td>\n",
       "    </tr>\n",
       "  </tbody>\n",
       "</table>\n",
       "</div>"
      ],
      "text/plain": [
       "    C   D\n",
       "0   9  13\n",
       "1  10  14"
      ]
     },
     "execution_count": 11,
     "metadata": {},
     "output_type": "execute_result"
    }
   ],
   "source": [
    "import pandas as pd\n",
    "\n",
    "df = pd.DataFrame({\n",
    "    'A': [1, 2, 3, 4],\n",
    "    'B': [5, 6, 7, 8],\n",
    "    'C': [9, 10, 11, 12],\n",
    "    'D': [13, 14, 15, 16]\n",
    "})\n",
    "\n",
    "resultado = df.iloc[:2,2:]\n",
    "resultado"
   ]
  }
 ],
 "metadata": {
  "kernelspec": {
   "display_name": "Python [conda env:base] *",
   "language": "python",
   "name": "conda-base-py"
  },
  "language_info": {
   "codemirror_mode": {
    "name": "ipython",
    "version": 3
   },
   "file_extension": ".py",
   "mimetype": "text/x-python",
   "name": "python",
   "nbconvert_exporter": "python",
   "pygments_lexer": "ipython3",
   "version": "3.13.5"
  }
 },
 "nbformat": 4,
 "nbformat_minor": 5
}
