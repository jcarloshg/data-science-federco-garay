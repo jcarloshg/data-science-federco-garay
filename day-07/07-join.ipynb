{
 "cells": [
  {
   "cell_type": "code",
   "execution_count": 2,
   "id": "c543ea66-0dd2-4de9-8fd0-4f729a897a3f",
   "metadata": {},
   "outputs": [],
   "source": [
    "import pandas as pd\n",
    "\n",
    "df1 = pd.DataFrame({'Salario': [30000, 45000, 38000],\n",
    "                    'Antigüedad': [9, 13, 12]},\n",
    "                   index=[1, 2, 3])\n",
    "df2 = pd.DataFrame({'Ciudad': ['Madrid', 'Barcelona', 'Valencia'],\n",
    "                    'Jerarquía': ['Baja', 'Alta', 'Media']},\n",
    "                   index=[1, 2, 4])\n"
   ]
  },
  {
   "cell_type": "code",
   "execution_count": 4,
   "id": "5583c4ca-d893-4ed8-a734-bc081af9e11f",
   "metadata": {},
   "outputs": [
    {
     "data": {
      "text/html": [
       "<div>\n",
       "<style scoped>\n",
       "    .dataframe tbody tr th:only-of-type {\n",
       "        vertical-align: middle;\n",
       "    }\n",
       "\n",
       "    .dataframe tbody tr th {\n",
       "        vertical-align: top;\n",
       "    }\n",
       "\n",
       "    .dataframe thead th {\n",
       "        text-align: right;\n",
       "    }\n",
       "</style>\n",
       "<table border=\"1\" class=\"dataframe\">\n",
       "  <thead>\n",
       "    <tr style=\"text-align: right;\">\n",
       "      <th></th>\n",
       "      <th>Salario</th>\n",
       "      <th>Antigüedad</th>\n",
       "      <th>Ciudad</th>\n",
       "      <th>Jerarquía</th>\n",
       "    </tr>\n",
       "  </thead>\n",
       "  <tbody>\n",
       "    <tr>\n",
       "      <th>1</th>\n",
       "      <td>30000</td>\n",
       "      <td>9</td>\n",
       "      <td>Madrid</td>\n",
       "      <td>Baja</td>\n",
       "    </tr>\n",
       "    <tr>\n",
       "      <th>2</th>\n",
       "      <td>45000</td>\n",
       "      <td>13</td>\n",
       "      <td>Barcelona</td>\n",
       "      <td>Alta</td>\n",
       "    </tr>\n",
       "    <tr>\n",
       "      <th>3</th>\n",
       "      <td>38000</td>\n",
       "      <td>12</td>\n",
       "      <td>NaN</td>\n",
       "      <td>NaN</td>\n",
       "    </tr>\n",
       "  </tbody>\n",
       "</table>\n",
       "</div>"
      ],
      "text/plain": [
       "   Salario  Antigüedad     Ciudad Jerarquía\n",
       "1    30000           9     Madrid      Baja\n",
       "2    45000          13  Barcelona      Alta\n",
       "3    38000          12        NaN       NaN"
      ]
     },
     "execution_count": 4,
     "metadata": {},
     "output_type": "execute_result"
    }
   ],
   "source": [
    "df_unido = df1.join(df2)\n",
    "df_unido"
   ]
  },
  {
   "cell_type": "code",
   "execution_count": 5,
   "id": "b3b6e6af-c06f-4b9e-8f41-aaaf67b899d0",
   "metadata": {},
   "outputs": [
    {
     "data": {
      "text/html": [
       "<div>\n",
       "<style scoped>\n",
       "    .dataframe tbody tr th:only-of-type {\n",
       "        vertical-align: middle;\n",
       "    }\n",
       "\n",
       "    .dataframe tbody tr th {\n",
       "        vertical-align: top;\n",
       "    }\n",
       "\n",
       "    .dataframe thead th {\n",
       "        text-align: right;\n",
       "    }\n",
       "</style>\n",
       "<table border=\"1\" class=\"dataframe\">\n",
       "  <thead>\n",
       "    <tr style=\"text-align: right;\">\n",
       "      <th></th>\n",
       "      <th>Salario</th>\n",
       "      <th>Antigüedad</th>\n",
       "      <th>Ciudad</th>\n",
       "      <th>Jerarquía</th>\n",
       "    </tr>\n",
       "  </thead>\n",
       "  <tbody>\n",
       "    <tr>\n",
       "      <th>1</th>\n",
       "      <td>30000</td>\n",
       "      <td>9</td>\n",
       "      <td>Madrid</td>\n",
       "      <td>Baja</td>\n",
       "    </tr>\n",
       "    <tr>\n",
       "      <th>2</th>\n",
       "      <td>45000</td>\n",
       "      <td>13</td>\n",
       "      <td>Barcelona</td>\n",
       "      <td>Alta</td>\n",
       "    </tr>\n",
       "  </tbody>\n",
       "</table>\n",
       "</div>"
      ],
      "text/plain": [
       "   Salario  Antigüedad     Ciudad Jerarquía\n",
       "1    30000           9     Madrid      Baja\n",
       "2    45000          13  Barcelona      Alta"
      ]
     },
     "execution_count": 5,
     "metadata": {},
     "output_type": "execute_result"
    }
   ],
   "source": [
    "df_unido = df1.join(df2, how='inner')\n",
    "df_unido"
   ]
  }
 ],
 "metadata": {
  "kernelspec": {
   "display_name": "Python [conda env:base] *",
   "language": "python",
   "name": "conda-base-py"
  },
  "language_info": {
   "codemirror_mode": {
    "name": "ipython",
    "version": 3
   },
   "file_extension": ".py",
   "mimetype": "text/x-python",
   "name": "python",
   "nbconvert_exporter": "python",
   "pygments_lexer": "ipython3",
   "version": "3.13.5"
  }
 },
 "nbformat": 4,
 "nbformat_minor": 5
}
