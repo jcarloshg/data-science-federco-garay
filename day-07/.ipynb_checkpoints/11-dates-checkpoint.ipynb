{
 "cells": [
  {
   "cell_type": "code",
   "execution_count": 1,
   "id": "d60e5d6f-3ee5-4d7e-af79-6902dd8e7e2f",
   "metadata": {},
   "outputs": [
    {
     "data": {
      "text/plain": [
       "0   2024-01-01\n",
       "1   2024-01-02\n",
       "2   2024-01-03\n",
       "3   2024-01-04\n",
       "4   2024-01-05\n",
       "5   2024-01-06\n",
       "dtype: datetime64[ns]"
      ]
     },
     "execution_count": 1,
     "metadata": {},
     "output_type": "execute_result"
    }
   ],
   "source": [
    "import pandas as pd\n",
    "\n",
    "date = pd.Series(pd.date_range('2024-01-01', periods=6))\n",
    "date"
   ]
  },
  {
   "cell_type": "code",
   "execution_count": 2,
   "id": "b7aef9a6-2b9d-42c0-9c30-58ae489ba568",
   "metadata": {},
   "outputs": [
    {
     "data": {
      "text/plain": [
       "pandas._libs.tslibs.timestamps.Timestamp"
      ]
     },
     "execution_count": 2,
     "metadata": {},
     "output_type": "execute_result"
    }
   ],
   "source": [
    "type(date[0])"
   ]
  },
  {
   "cell_type": "code",
   "execution_count": 3,
   "id": "f8426a36-5e45-4b9d-855c-0b73461e86fa",
   "metadata": {},
   "outputs": [
    {
     "data": {
      "text/plain": [
       "0   2024-01-01\n",
       "1   2024-01-02\n",
       "2   2024-01-03\n",
       "3   2024-01-04\n",
       "4   2024-01-05\n",
       "5   2024-01-06\n",
       "dtype: datetime64[ns]"
      ]
     },
     "execution_count": 3,
     "metadata": {},
     "output_type": "execute_result"
    }
   ],
   "source": [
    "date = pd.Series(pd.date_range('2024-01-01', periods=6, freq='D'))\n",
    "date"
   ]
  },
  {
   "cell_type": "code",
   "execution_count": 5,
   "id": "6235de14-b3f9-4584-b64a-754866f3069d",
   "metadata": {},
   "outputs": [
    {
     "data": {
      "text/plain": [
       "0   2024-01-31\n",
       "1   2024-02-29\n",
       "2   2024-03-31\n",
       "3   2024-04-30\n",
       "4   2024-05-31\n",
       "5   2024-06-30\n",
       "dtype: datetime64[ns]"
      ]
     },
     "execution_count": 5,
     "metadata": {},
     "output_type": "execute_result"
    }
   ],
   "source": [
    "date = pd.Series(pd.date_range('2024-01-01', periods=6, freq='ME'))\n",
    "date"
   ]
  },
  {
   "cell_type": "code",
   "execution_count": 7,
   "id": "7da267e1-ec26-48b7-8ca1-af0545238f42",
   "metadata": {},
   "outputs": [
    {
     "data": {
      "text/plain": [
       "0   2024-12-31\n",
       "1   2025-12-31\n",
       "2   2026-12-31\n",
       "3   2027-12-31\n",
       "4   2028-12-31\n",
       "5   2029-12-31\n",
       "dtype: datetime64[ns]"
      ]
     },
     "execution_count": 7,
     "metadata": {},
     "output_type": "execute_result"
    }
   ],
   "source": [
    "date = pd.Series(pd.date_range('2024-01-01', periods=6, freq='YE'))\n",
    "date"
   ]
  },
  {
   "cell_type": "code",
   "execution_count": 12,
   "id": "e7216be0-00b8-4a6a-973b-f65289fba31e",
   "metadata": {},
   "outputs": [
    {
     "data": {
      "text/plain": [
       "0   2024-01-01 00:00:00\n",
       "1   2024-01-01 01:00:00\n",
       "2   2024-01-01 02:00:00\n",
       "3   2024-01-01 03:00:00\n",
       "4   2024-01-01 04:00:00\n",
       "5   2024-01-01 05:00:00\n",
       "dtype: datetime64[ns]"
      ]
     },
     "execution_count": 12,
     "metadata": {},
     "output_type": "execute_result"
    }
   ],
   "source": [
    "date = pd.Series(pd.date_range('2024-01-01', periods=6, freq='h'))\n",
    "date"
   ]
  },
  {
   "cell_type": "code",
   "execution_count": 17,
   "id": "13ad0b8d-1b95-4282-8b89-543caa14fc91",
   "metadata": {},
   "outputs": [
    {
     "data": {
      "text/plain": [
       "0   2024-01-01 00:00:00\n",
       "1   2024-01-01 00:00:05\n",
       "2   2024-01-01 00:00:10\n",
       "3   2024-01-01 00:00:15\n",
       "4   2024-01-01 00:00:20\n",
       "5   2024-01-01 00:00:25\n",
       "dtype: datetime64[ns]"
      ]
     },
     "execution_count": 17,
     "metadata": {},
     "output_type": "execute_result"
    }
   ],
   "source": [
    "date = pd.Series(pd.date_range('2024-01-01', periods=6, freq='5s'))\n",
    "date"
   ]
  },
  {
   "cell_type": "code",
   "execution_count": 21,
   "id": "2f84243d-5a05-4ec3-9e8d-0920b729f2e8",
   "metadata": {},
   "outputs": [
    {
     "data": {
      "text/html": [
       "<div>\n",
       "<style scoped>\n",
       "    .dataframe tbody tr th:only-of-type {\n",
       "        vertical-align: middle;\n",
       "    }\n",
       "\n",
       "    .dataframe tbody tr th {\n",
       "        vertical-align: top;\n",
       "    }\n",
       "\n",
       "    .dataframe thead th {\n",
       "        text-align: right;\n",
       "    }\n",
       "</style>\n",
       "<table border=\"1\" class=\"dataframe\">\n",
       "  <thead>\n",
       "    <tr style=\"text-align: right;\">\n",
       "      <th></th>\n",
       "      <th>Ticker</th>\n",
       "      <th>Fecha</th>\n",
       "      <th>Cierre</th>\n",
       "      <th>Referencia</th>\n",
       "      <th>Volumen</th>\n",
       "      <th>Rotacion</th>\n",
       "      <th>Ultimo</th>\n",
       "      <th>Alto</th>\n",
       "      <th>Bajo</th>\n",
       "      <th>Promedio</th>\n",
       "    </tr>\n",
       "  </thead>\n",
       "  <tbody>\n",
       "    <tr>\n",
       "      <th>0</th>\n",
       "      <td>ANA</td>\n",
       "      <td>02/01/2019</td>\n",
       "      <td>74.80</td>\n",
       "      <td>73.90</td>\n",
       "      <td>156300</td>\n",
       "      <td>11621188.98</td>\n",
       "      <td>74.80</td>\n",
       "      <td>75.16</td>\n",
       "      <td>72.38</td>\n",
       "      <td>74.3518</td>\n",
       "    </tr>\n",
       "    <tr>\n",
       "      <th>1</th>\n",
       "      <td>ANA</td>\n",
       "      <td>03/01/2019</td>\n",
       "      <td>76.34</td>\n",
       "      <td>74.80</td>\n",
       "      <td>140331</td>\n",
       "      <td>10632703.64</td>\n",
       "      <td>76.34</td>\n",
       "      <td>76.60</td>\n",
       "      <td>74.54</td>\n",
       "      <td>75.7687</td>\n",
       "    </tr>\n",
       "    <tr>\n",
       "      <th>2</th>\n",
       "      <td>ANA</td>\n",
       "      <td>04/01/2019</td>\n",
       "      <td>76.62</td>\n",
       "      <td>76.34</td>\n",
       "      <td>130309</td>\n",
       "      <td>10010838.76</td>\n",
       "      <td>76.62</td>\n",
       "      <td>77.40</td>\n",
       "      <td>76.40</td>\n",
       "      <td>76.8162</td>\n",
       "    </tr>\n",
       "    <tr>\n",
       "      <th>3</th>\n",
       "      <td>ANA</td>\n",
       "      <td>07/01/2019</td>\n",
       "      <td>77.14</td>\n",
       "      <td>76.62</td>\n",
       "      <td>63349</td>\n",
       "      <td>4855724.92</td>\n",
       "      <td>77.14</td>\n",
       "      <td>77.30</td>\n",
       "      <td>75.62</td>\n",
       "      <td>76.6504</td>\n",
       "    </tr>\n",
       "    <tr>\n",
       "      <th>4</th>\n",
       "      <td>ANA</td>\n",
       "      <td>08/01/2019</td>\n",
       "      <td>78.24</td>\n",
       "      <td>77.14</td>\n",
       "      <td>99300</td>\n",
       "      <td>7749464.70</td>\n",
       "      <td>78.24</td>\n",
       "      <td>78.46</td>\n",
       "      <td>77.00</td>\n",
       "      <td>78.0409</td>\n",
       "    </tr>\n",
       "    <tr>\n",
       "      <th>...</th>\n",
       "      <td>...</td>\n",
       "      <td>...</td>\n",
       "      <td>...</td>\n",
       "      <td>...</td>\n",
       "      <td>...</td>\n",
       "      <td>...</td>\n",
       "      <td>...</td>\n",
       "      <td>...</td>\n",
       "      <td>...</td>\n",
       "      <td>...</td>\n",
       "    </tr>\n",
       "    <tr>\n",
       "      <th>8570</th>\n",
       "      <td>VIS</td>\n",
       "      <td>09/12/2019</td>\n",
       "      <td>48.70</td>\n",
       "      <td>48.76</td>\n",
       "      <td>40236</td>\n",
       "      <td>1958325.66</td>\n",
       "      <td>48.70</td>\n",
       "      <td>48.96</td>\n",
       "      <td>48.44</td>\n",
       "      <td>48.6710</td>\n",
       "    </tr>\n",
       "    <tr>\n",
       "      <th>8571</th>\n",
       "      <td>VIS</td>\n",
       "      <td>10/12/2019</td>\n",
       "      <td>48.16</td>\n",
       "      <td>48.70</td>\n",
       "      <td>60198</td>\n",
       "      <td>2895965.78</td>\n",
       "      <td>48.16</td>\n",
       "      <td>48.74</td>\n",
       "      <td>47.70</td>\n",
       "      <td>48.1201</td>\n",
       "    </tr>\n",
       "    <tr>\n",
       "      <th>8572</th>\n",
       "      <td>VIS</td>\n",
       "      <td>11/12/2019</td>\n",
       "      <td>47.96</td>\n",
       "      <td>48.16</td>\n",
       "      <td>63000</td>\n",
       "      <td>3012462.12</td>\n",
       "      <td>47.96</td>\n",
       "      <td>48.42</td>\n",
       "      <td>47.52</td>\n",
       "      <td>47.8169</td>\n",
       "    </tr>\n",
       "    <tr>\n",
       "      <th>8573</th>\n",
       "      <td>VIS</td>\n",
       "      <td>12/12/2019</td>\n",
       "      <td>48.42</td>\n",
       "      <td>47.96</td>\n",
       "      <td>50218</td>\n",
       "      <td>2429199.80</td>\n",
       "      <td>48.42</td>\n",
       "      <td>48.66</td>\n",
       "      <td>47.76</td>\n",
       "      <td>48.3731</td>\n",
       "    </tr>\n",
       "    <tr>\n",
       "      <th>8574</th>\n",
       "      <td>VIS</td>\n",
       "      <td>13/12/2019</td>\n",
       "      <td>48.64</td>\n",
       "      <td>48.42</td>\n",
       "      <td>62427</td>\n",
       "      <td>3038685.10</td>\n",
       "      <td>48.64</td>\n",
       "      <td>49.18</td>\n",
       "      <td>48.12</td>\n",
       "      <td>48.6758</td>\n",
       "    </tr>\n",
       "  </tbody>\n",
       "</table>\n",
       "<p>8575 rows × 10 columns</p>\n",
       "</div>"
      ],
      "text/plain": [
       "     Ticker       Fecha  Cierre  Referencia  Volumen     Rotacion  Ultimo  \\\n",
       "0       ANA  02/01/2019   74.80       73.90   156300  11621188.98   74.80   \n",
       "1       ANA  03/01/2019   76.34       74.80   140331  10632703.64   76.34   \n",
       "2       ANA  04/01/2019   76.62       76.34   130309  10010838.76   76.62   \n",
       "3       ANA  07/01/2019   77.14       76.62    63349   4855724.92   77.14   \n",
       "4       ANA  08/01/2019   78.24       77.14    99300   7749464.70   78.24   \n",
       "...     ...         ...     ...         ...      ...          ...     ...   \n",
       "8570    VIS  09/12/2019   48.70       48.76    40236   1958325.66   48.70   \n",
       "8571    VIS  10/12/2019   48.16       48.70    60198   2895965.78   48.16   \n",
       "8572    VIS  11/12/2019   47.96       48.16    63000   3012462.12   47.96   \n",
       "8573    VIS  12/12/2019   48.42       47.96    50218   2429199.80   48.42   \n",
       "8574    VIS  13/12/2019   48.64       48.42    62427   3038685.10   48.64   \n",
       "\n",
       "       Alto   Bajo  Promedio  \n",
       "0     75.16  72.38   74.3518  \n",
       "1     76.60  74.54   75.7687  \n",
       "2     77.40  76.40   76.8162  \n",
       "3     77.30  75.62   76.6504  \n",
       "4     78.46  77.00   78.0409  \n",
       "...     ...    ...       ...  \n",
       "8570  48.96  48.44   48.6710  \n",
       "8571  48.74  47.70   48.1201  \n",
       "8572  48.42  47.52   47.8169  \n",
       "8573  48.66  47.76   48.3731  \n",
       "8574  49.18  48.12   48.6758  \n",
       "\n",
       "[8575 rows x 10 columns]"
      ]
     },
     "execution_count": 21,
     "metadata": {},
     "output_type": "execute_result"
    }
   ],
   "source": [
    "spanish_stock_exchange_csv_url = \"./spanish-stock-exchange.csv\"\n",
    "df = pd.read_csv(spanish_stock_exchange_csv_url)\n",
    "df"
   ]
  },
  {
   "cell_type": "code",
   "execution_count": 23,
   "id": "9c392a05-ae77-4009-b382-993ef55626e6",
   "metadata": {},
   "outputs": [
    {
     "data": {
      "text/plain": [
       "str"
      ]
     },
     "execution_count": 23,
     "metadata": {},
     "output_type": "execute_result"
    }
   ],
   "source": [
    "type(df['Fecha'][0])"
   ]
  },
  {
   "cell_type": "code",
   "execution_count": 31,
   "id": "5de3af25-72b3-4891-98f9-ee5cf24bc990",
   "metadata": {},
   "outputs": [
    {
     "name": "stdout",
     "output_type": "stream",
     "text": [
      "2019-01-02 00:00:00\n",
      "<class 'pandas._libs.tslibs.timestamps.Timestamp'>\n",
      "2019\n",
      "3\n"
     ]
    }
   ],
   "source": [
    "df['Fecha'] = pd.to_datetime(df['Fecha'], format='%d/%m/%Y')\n",
    "print(df['Fecha'][0])\n",
    "print(type(df['Fecha'][0]))\n",
    "print(df['Fecha'][44].year)\n",
    "print(df['Fecha'][44].month)"
   ]
  },
  {
   "cell_type": "code",
   "execution_count": 33,
   "id": "7f104a4f-017a-4d0d-99d8-a66f8ac127d8",
   "metadata": {},
   "outputs": [
    {
     "data": {
      "text/plain": [
       "0      2019-01-07\n",
       "1      2019-01-08\n",
       "2      2019-01-09\n",
       "3      2019-01-12\n",
       "4      2019-01-13\n",
       "          ...    \n",
       "8570   2019-12-14\n",
       "8571   2019-12-15\n",
       "8572   2019-12-16\n",
       "8573   2019-12-17\n",
       "8574   2019-12-18\n",
       "Name: Fecha, Length: 8575, dtype: datetime64[ns]"
      ]
     },
     "execution_count": 33,
     "metadata": {},
     "output_type": "execute_result"
    }
   ],
   "source": [
    "df_more_5_day = df['Fecha'] + pd.Timedelta(days=5)\n",
    "df_more_5_day"
   ]
  }
 ],
 "metadata": {
  "kernelspec": {
   "display_name": "Python [conda env:base] *",
   "language": "python",
   "name": "conda-base-py"
  },
  "language_info": {
   "codemirror_mode": {
    "name": "ipython",
    "version": 3
   },
   "file_extension": ".py",
   "mimetype": "text/x-python",
   "name": "python",
   "nbconvert_exporter": "python",
   "pygments_lexer": "ipython3",
   "version": "3.13.5"
  }
 },
 "nbformat": 4,
 "nbformat_minor": 5
}
