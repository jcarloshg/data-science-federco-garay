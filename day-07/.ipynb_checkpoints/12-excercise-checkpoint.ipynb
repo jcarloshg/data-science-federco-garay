{
 "cells": [
  {
   "cell_type": "markdown",
   "id": "ccb5671b-d528-4d94-847a-6af645c00040",
   "metadata": {},
   "source": [
    "# Datos Relacionados con el Tiempo en Pandas 1\n",
    "Crea una serie temporal que represente todos los días desde el inicio del año 2024 hasta el septimo dia del mismo mes y año. Usa el método adecuado para generar esta serie y asígnala a una variable llamada primera_semana_2024"
   ]
  },
  {
   "cell_type": "code",
   "execution_count": 3,
   "id": "f191fb8a-b08a-4c42-a952-78151a7a0a62",
   "metadata": {},
   "outputs": [
    {
     "data": {
      "text/plain": [
       "0   2024-01-01\n",
       "1   2024-01-02\n",
       "2   2024-01-03\n",
       "3   2024-01-04\n",
       "4   2024-01-05\n",
       "5   2024-01-06\n",
       "6   2024-01-07\n",
       "dtype: datetime64[ns]"
      ]
     },
     "execution_count": 3,
     "metadata": {},
     "output_type": "execute_result"
    }
   ],
   "source": [
    "import pandas as pd\n",
    "\n",
    "primera_semana_2024 = pd.Series(pd.date_range('2024-01-01', periods=7))\n",
    "primera_semana_2024"
   ]
  },
  {
   "cell_type": "markdown",
   "id": "85e035e1-d519-4a8d-a2f7-1f74327c4ca7",
   "metadata": {},
   "source": [
    "# Datos Relacionados con el Tiempo en Pandas 2\n",
    "\n",
    "Dada una lista de fechas en formato string ['2024-01-01', '2024-02-14', '2024-03-01'] en una columna fecha de una tabla llamada fechas.csv\n",
    "\n",
    "Debes leer el archivo CSV 'fechas.csv' desde tu código para ello emplea el método adecuado.\n",
    "\n",
    "Convierte estas fechas al formato datetime de Pandas con el siguiente formato dia/mes/año. Almacena este DataFrame en una variable nombrada df"
   ]
  },
  {
   "cell_type": "code",
   "execution_count": 32,
   "id": "f9b47c9c-fd6c-4afc-842d-608e10625bf9",
   "metadata": {},
   "outputs": [
    {
     "name": "stdout",
     "output_type": "stream",
     "text": [
      "        fecha\n",
      "0  2024-01-01\n",
      "1  2024-02-14\n",
      "2  2024-03-01\n"
     ]
    },
    {
     "data": {
      "text/html": [
       "<div>\n",
       "<style scoped>\n",
       "    .dataframe tbody tr th:only-of-type {\n",
       "        vertical-align: middle;\n",
       "    }\n",
       "\n",
       "    .dataframe tbody tr th {\n",
       "        vertical-align: top;\n",
       "    }\n",
       "\n",
       "    .dataframe thead th {\n",
       "        text-align: right;\n",
       "    }\n",
       "</style>\n",
       "<table border=\"1\" class=\"dataframe\">\n",
       "  <thead>\n",
       "    <tr style=\"text-align: right;\">\n",
       "      <th></th>\n",
       "      <th>fecha</th>\n",
       "    </tr>\n",
       "  </thead>\n",
       "  <tbody>\n",
       "    <tr>\n",
       "      <th>0</th>\n",
       "      <td>01/01/2024</td>\n",
       "    </tr>\n",
       "    <tr>\n",
       "      <th>1</th>\n",
       "      <td>14/02/2024</td>\n",
       "    </tr>\n",
       "    <tr>\n",
       "      <th>2</th>\n",
       "      <td>01/03/2024</td>\n",
       "    </tr>\n",
       "  </tbody>\n",
       "</table>\n",
       "</div>"
      ],
      "text/plain": [
       "        fecha\n",
       "0  01/01/2024\n",
       "1  14/02/2024\n",
       "2  01/03/2024"
      ]
     },
     "execution_count": 32,
     "metadata": {},
     "output_type": "execute_result"
    }
   ],
   "source": [
    "import pandas as pd\n",
    "\n",
    "dates_csv_url = \"./fechas.csv\"\n",
    "df = pd.read_csv(dates_csv_url)\n",
    "print(df)\n",
    "# Convertir la columna 'fecha' al formato datetime con el formato día/mes/año\n",
    "df['fecha'] = pd.to_datetime(df['fecha'], format='%Y-%m-%d').dt.strftime('%d/%m/%Y')\n",
    "df\n"
   ]
  },
  {
   "cell_type": "code",
   "execution_count": null,
   "id": "a326167d-03ff-44f7-a6bc-d5bbfdf905cc",
   "metadata": {},
   "outputs": [],
   "source": []
  }
 ],
 "metadata": {
  "kernelspec": {
   "display_name": "Python [conda env:base] *",
   "language": "python",
   "name": "conda-base-py"
  },
  "language_info": {
   "codemirror_mode": {
    "name": "ipython",
    "version": 3
   },
   "file_extension": ".py",
   "mimetype": "text/x-python",
   "name": "python",
   "nbconvert_exporter": "python",
   "pygments_lexer": "ipython3",
   "version": "3.13.5"
  }
 },
 "nbformat": 4,
 "nbformat_minor": 5
}
