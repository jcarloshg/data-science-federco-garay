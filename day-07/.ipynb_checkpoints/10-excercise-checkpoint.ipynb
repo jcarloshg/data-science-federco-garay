{
 "cells": [
  {
   "cell_type": "markdown",
   "id": "f682e200-b4e9-4aa3-8e7e-8582d0d1c981",
   "metadata": {},
   "source": [
    "# Concatenar DataFrames en Pandas con concat 1\n",
    "\n",
    "Tienes dos conjuntos de datos representados por los siguientes DataFrames ventas_enero y ventas_febrero, que contienen las ventas de diferentes productos en los meses de enero y febrero, respectivamente.\n",
    "```python\n",
    "ventas_enero = pd.DataFrame({'Producto': [\"Manzanas\", \"Bananas\", \"Naranjas\"], 'Cantidad': [300, 200, 150]})\n",
    "ventas_febrero = pd.DataFrame({'Producto': [\"Manzanas\", \"Bananas\", \"Naranjas\"], 'Cantidad': [350, 210, 170]})\n",
    "```\n",
    "\n",
    "Tu tarea es utilizar el método concat() para concatenar estos dos DataFrames verticalmente en un nuevo DataFrame llamado `ventas_total`. Asegúrate de ignorar los índices originales para que el índice del DataFrame resultante sea continuo."
   ]
  },
  {
   "cell_type": "code",
   "execution_count": 5,
   "id": "69b02e17-7460-4a6d-a76c-8fc30844bf0a",
   "metadata": {},
   "outputs": [
    {
     "data": {
      "text/html": [
       "<div>\n",
       "<style scoped>\n",
       "    .dataframe tbody tr th:only-of-type {\n",
       "        vertical-align: middle;\n",
       "    }\n",
       "\n",
       "    .dataframe tbody tr th {\n",
       "        vertical-align: top;\n",
       "    }\n",
       "\n",
       "    .dataframe thead th {\n",
       "        text-align: right;\n",
       "    }\n",
       "</style>\n",
       "<table border=\"1\" class=\"dataframe\">\n",
       "  <thead>\n",
       "    <tr style=\"text-align: right;\">\n",
       "      <th></th>\n",
       "      <th>Producto</th>\n",
       "      <th>Cantidad</th>\n",
       "    </tr>\n",
       "  </thead>\n",
       "  <tbody>\n",
       "    <tr>\n",
       "      <th>0</th>\n",
       "      <td>Manzanas</td>\n",
       "      <td>300</td>\n",
       "    </tr>\n",
       "    <tr>\n",
       "      <th>1</th>\n",
       "      <td>Bananas</td>\n",
       "      <td>200</td>\n",
       "    </tr>\n",
       "    <tr>\n",
       "      <th>2</th>\n",
       "      <td>Naranjas</td>\n",
       "      <td>150</td>\n",
       "    </tr>\n",
       "    <tr>\n",
       "      <th>3</th>\n",
       "      <td>Manzanas</td>\n",
       "      <td>350</td>\n",
       "    </tr>\n",
       "    <tr>\n",
       "      <th>4</th>\n",
       "      <td>Bananas</td>\n",
       "      <td>210</td>\n",
       "    </tr>\n",
       "    <tr>\n",
       "      <th>5</th>\n",
       "      <td>Naranjas</td>\n",
       "      <td>170</td>\n",
       "    </tr>\n",
       "  </tbody>\n",
       "</table>\n",
       "</div>"
      ],
      "text/plain": [
       "   Producto  Cantidad\n",
       "0  Manzanas       300\n",
       "1   Bananas       200\n",
       "2  Naranjas       150\n",
       "3  Manzanas       350\n",
       "4   Bananas       210\n",
       "5  Naranjas       170"
      ]
     },
     "execution_count": 5,
     "metadata": {},
     "output_type": "execute_result"
    }
   ],
   "source": [
    "import pandas as pd\n",
    "\n",
    "ventas_enero = pd.DataFrame({'Producto': [\"Manzanas\", \"Bananas\", \"Naranjas\"], 'Cantidad': [300, 200, 150]})\n",
    "ventas_febrero = pd.DataFrame({'Producto': [\"Manzanas\", \"Bananas\", \"Naranjas\"], 'Cantidad': [350, 210, 170]})\n",
    "\n",
    "ventas_total = pd.concat([ventas_enero, ventas_febrero], ignore_index=True)\n",
    "ventas_total"
   ]
  },
  {
   "cell_type": "markdown",
   "id": "d2011813-2450-4e82-9371-77a9dfb8f775",
   "metadata": {},
   "source": [
    "# Concatenar DataFrames en Pandas con concat 2\n",
    "\n",
    "Considera los siguientes DataFrames datos_cliente y compras_cliente, que contienen información sobre los clientes y sus compras, respectivamente.\n",
    "\n",
    "```python\n",
    "datos_cliente = pd.DataFrame({'Nombre': [\"Ana\", \"Luis\", \"Marta\"], 'Edad': [34, 45, 28]})\n",
    "compras_cliente = pd.DataFrame({'Producto': [\"Libro\", \"Lápiz\", \"Cuaderno\"], 'Precio': [15.50, 0.50, 2.00]})\n",
    "```\n",
    "\n",
    "\n",
    "Utiliza el método concat() para unir estos dos DataFrames horizontalmente, formando un nuevo DataFrame llamado `info_cliente`. Asegúrate de que los índices se mantengan para que cada fila corresponda correctamente entre los dos DataFrames."
   ]
  },
  {
   "cell_type": "code",
   "execution_count": 8,
   "id": "8b59dc02-8be1-481d-8414-1ef6fe2b22b2",
   "metadata": {},
   "outputs": [
    {
     "data": {
      "text/html": [
       "<div>\n",
       "<style scoped>\n",
       "    .dataframe tbody tr th:only-of-type {\n",
       "        vertical-align: middle;\n",
       "    }\n",
       "\n",
       "    .dataframe tbody tr th {\n",
       "        vertical-align: top;\n",
       "    }\n",
       "\n",
       "    .dataframe thead th {\n",
       "        text-align: right;\n",
       "    }\n",
       "</style>\n",
       "<table border=\"1\" class=\"dataframe\">\n",
       "  <thead>\n",
       "    <tr style=\"text-align: right;\">\n",
       "      <th></th>\n",
       "      <th>Nombre</th>\n",
       "      <th>Edad</th>\n",
       "      <th>Producto</th>\n",
       "      <th>Precio</th>\n",
       "    </tr>\n",
       "  </thead>\n",
       "  <tbody>\n",
       "    <tr>\n",
       "      <th>0</th>\n",
       "      <td>Ana</td>\n",
       "      <td>34</td>\n",
       "      <td>Libro</td>\n",
       "      <td>15.5</td>\n",
       "    </tr>\n",
       "    <tr>\n",
       "      <th>1</th>\n",
       "      <td>Luis</td>\n",
       "      <td>45</td>\n",
       "      <td>Lápiz</td>\n",
       "      <td>0.5</td>\n",
       "    </tr>\n",
       "    <tr>\n",
       "      <th>2</th>\n",
       "      <td>Marta</td>\n",
       "      <td>28</td>\n",
       "      <td>Cuaderno</td>\n",
       "      <td>2.0</td>\n",
       "    </tr>\n",
       "  </tbody>\n",
       "</table>\n",
       "</div>"
      ],
      "text/plain": [
       "  Nombre  Edad  Producto  Precio\n",
       "0    Ana    34     Libro    15.5\n",
       "1   Luis    45     Lápiz     0.5\n",
       "2  Marta    28  Cuaderno     2.0"
      ]
     },
     "execution_count": 8,
     "metadata": {},
     "output_type": "execute_result"
    }
   ],
   "source": [
    "import pandas as pd\n",
    "\n",
    "datos_cliente = pd.DataFrame({'Nombre': [\"Ana\", \"Luis\", \"Marta\"], 'Edad': [34, 45, 28]})\n",
    "compras_cliente = pd.DataFrame({'Producto': [\"Libro\", \"Lápiz\", \"Cuaderno\"], 'Precio': [15.50, 0.50, 2.00]})\n",
    "\n",
    "info_cliente = pd.concat([datos_cliente,compras_cliente], axis=1)\n",
    "info_cliente"
   ]
  },
  {
   "cell_type": "markdown",
   "id": "d1ea90c3-4a07-47c6-b51a-9ccdf117467c",
   "metadata": {},
   "source": [
    "# Concatenar DataFrames en Pandas con concat 3\n",
    "Dado los siguientes DataFrames que representan las ventas de dos tiendas diferentes en el mismo mes:\n",
    "\n",
    "```python\n",
    "tienda_a = pd.DataFrame({'Producto': [\"Manzanas\", \"Bananas\"], 'Cantidad': [500, 300]})\n",
    "tienda_b = pd.DataFrame({'Producto': [\"Naranjas\", \"Peras\"], 'Cantidad': [400, 250]})\n",
    "```\n",
    "\n",
    "Tu tarea es concatenar estos DataFrames verticalmente en un nuevo DataFrame llamado `ventas_tienda`, utilizando el parámetro keys para marcar cada bloque de datos con las etiquetas \"Tienda A\" y \"Tienda B\", respectivamente. Asegúrate de que el DataFrame resultante tenga un índice jerárquico que refleje estas claves."
   ]
  },
  {
   "cell_type": "code",
   "execution_count": 12,
   "id": "f3fe8644-0896-4b94-8556-6a924016a878",
   "metadata": {},
   "outputs": [
    {
     "data": {
      "text/html": [
       "<div>\n",
       "<style scoped>\n",
       "    .dataframe tbody tr th:only-of-type {\n",
       "        vertical-align: middle;\n",
       "    }\n",
       "\n",
       "    .dataframe tbody tr th {\n",
       "        vertical-align: top;\n",
       "    }\n",
       "\n",
       "    .dataframe thead th {\n",
       "        text-align: right;\n",
       "    }\n",
       "</style>\n",
       "<table border=\"1\" class=\"dataframe\">\n",
       "  <thead>\n",
       "    <tr style=\"text-align: right;\">\n",
       "      <th></th>\n",
       "      <th></th>\n",
       "      <th>Producto</th>\n",
       "      <th>Cantidad</th>\n",
       "    </tr>\n",
       "  </thead>\n",
       "  <tbody>\n",
       "    <tr>\n",
       "      <th rowspan=\"2\" valign=\"top\">Tienda A</th>\n",
       "      <th>0</th>\n",
       "      <td>Manzanas</td>\n",
       "      <td>500</td>\n",
       "    </tr>\n",
       "    <tr>\n",
       "      <th>1</th>\n",
       "      <td>Bananas</td>\n",
       "      <td>300</td>\n",
       "    </tr>\n",
       "    <tr>\n",
       "      <th rowspan=\"2\" valign=\"top\">Tienda B</th>\n",
       "      <th>0</th>\n",
       "      <td>Naranjas</td>\n",
       "      <td>400</td>\n",
       "    </tr>\n",
       "    <tr>\n",
       "      <th>1</th>\n",
       "      <td>Peras</td>\n",
       "      <td>250</td>\n",
       "    </tr>\n",
       "  </tbody>\n",
       "</table>\n",
       "</div>"
      ],
      "text/plain": [
       "            Producto  Cantidad\n",
       "Tienda A 0  Manzanas       500\n",
       "         1   Bananas       300\n",
       "Tienda B 0  Naranjas       400\n",
       "         1     Peras       250"
      ]
     },
     "execution_count": 12,
     "metadata": {},
     "output_type": "execute_result"
    }
   ],
   "source": [
    "import pandas as pd\n",
    "\n",
    "tienda_a = pd.DataFrame({'Producto': [\"Manzanas\", \"Bananas\"], 'Cantidad': [500, 300]})\n",
    "tienda_b = pd.DataFrame({'Producto': [\"Naranjas\", \"Peras\"], 'Cantidad': [400, 250]})\n",
    "\n",
    "ventas_tienda = pd.concat([tienda_a,tienda_b], keys=[\"Tienda A\" , \"Tienda B\"])\n",
    "ventas_tienda"
   ]
  }
 ],
 "metadata": {
  "kernelspec": {
   "display_name": "Python [conda env:base] *",
   "language": "python",
   "name": "conda-base-py"
  },
  "language_info": {
   "codemirror_mode": {
    "name": "ipython",
    "version": 3
   },
   "file_extension": ".py",
   "mimetype": "text/x-python",
   "name": "python",
   "nbconvert_exporter": "python",
   "pygments_lexer": "ipython3",
   "version": "3.13.5"
  }
 },
 "nbformat": 4,
 "nbformat_minor": 5
}
