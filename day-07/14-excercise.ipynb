{
 "cells": [
  {
   "cell_type": "markdown",
   "id": "c049cee8",
   "metadata": {},
   "source": [
    "# Abrir y Escribir Archivos desde Pandas 1\n",
    "Dado el siguiente diccionario que contiene datos de ventas diarias de una tienda:\n",
    "\n",
    "\n",
    "```python\n",
    "data = {\n",
    "    'Fecha': ['2024-03-19', '2024-03-20', '2024-03-21', '2024-03-22', '2024-03-23', '2024-03-24'],\n",
    "    'Producto': ['Manzanas', 'Peras', 'Naranjas', 'Plátanos', 'Uvas', 'Melocotones'],\n",
    "    'Cantidad': [23, 15, 18, 30, 8, 20],\n",
    "    'Precio': [1.2, 1.5, 1.0, 0.8, 2.0, 1.7]\n",
    "}\n",
    "```\n",
    "\n",
    "Realiza los siguientes pasos:\n",
    "\n",
    "\n",
    "\n",
    "1. Crea un DataFrame nombrado df_ventas  donde almacenes la información antes proporcionada.\n",
    "2. Crea una función llamada `guardar_en_excel()` que guarde este DataFrame en un archivo llamado  ventas1.xlsx en la ruta siguiente: '/mnt/data/' \n",
    "3. Asegúrate de no incluir el índice del DataFrame en el archivo Excel."
   ]
  },
  {
   "cell_type": "code",
   "execution_count": 2,
   "id": "205832ff",
   "metadata": {},
   "outputs": [
    {
     "name": "stdout",
     "output_type": "stream",
     "text": [
      "Datos guardados en 'ventas_productos.xlsx'.\n"
     ]
    }
   ],
   "source": [
    "import pandas as pd\n",
    "\n",
    "data = {\n",
    "    'Fecha': ['2024-03-19', '2024-03-20', '2024-03-21', '2024-03-22', '2024-03-23', '2024-03-24'],\n",
    "    'Producto': ['Manzanas', 'Peras', 'Naranjas', 'Plátanos', 'Uvas', 'Melocotones'],\n",
    "    'Cantidad': [23, 15, 18, 30, 8, 20],\n",
    "    'Precio': [1.2, 1.5, 1.0, 0.8, 2.0, 1.7]\n",
    "}\n",
    "\n",
    "df_ventas = pd.DataFrame(data)\n",
    "\n",
    "def guardar_en_excel():\n",
    "    df_ventas.to_excel(\"df_ventas.xlsx\", index=False)\n",
    "    print(\"Datos guardados en 'ventas_productos.xlsx'.\")\n",
    "\n",
    "guardar_en_excel()"
   ]
  },
  {
   "cell_type": "markdown",
   "id": "1e24a9d3",
   "metadata": {},
   "source": [
    "# Abrir y Escribir Archivos desde Pandas 2\n",
    "Dado el siguiente diccionario que contiene datos de ventas diarias de una tienda:\n",
    "\n",
    "\n",
    "```python\n",
    "data = {\n",
    "    'Fecha': ['2024-03-19', '2024-03-20', '2024-03-21', '2024-03-22', '2024-03-23', '2024-03-24'],\n",
    "    'Producto': ['Manzanas', 'Peras', 'Naranjas', 'Plátanos', 'Uvas', 'Melocotones'],\n",
    "    'Cantidad': [23, 15, 18, 30, 8, 20],\n",
    "    'Precio': [1.2, 1.5, 1.0, 0.8, 2.0, 1.7]\n",
    "}\n",
    "```\n",
    "\n",
    "Realiza los siguientes pasos:\n",
    "\n",
    "1. Crea un DataFrame nombrado ``df_ventas`` donde almacenes la información antes proporcionada.\n",
    "2. Convierte la columna Fecha al formato datetime de Pandas con el siguiente formato dia/mes/año.\n",
    "3. Crea una funcion llamada ``guardar_en_excel()`` que guarde este DataFrame en un archivo llamado 'ventas2.xlsx' en la ruta siguiente: '/mnt/data/'\n",
    "4. Asegúrate de no incluir el índice del DataFrame en el archivo Excel."
   ]
  },
  {
   "cell_type": "code",
   "execution_count": null,
   "id": "450e0d0f",
   "metadata": {},
   "outputs": [
    {
     "name": "stdout",
     "output_type": "stream",
     "text": [
      "Datos guardados en 'ventas_productos.xlsx'.\n"
     ]
    }
   ],
   "source": [
    "import pandas as pd\n",
    "\n",
    "data = {\n",
    "    'Fecha': ['2024-03-19', '2024-03-20', '2024-03-21', '2024-03-22', '2024-03-23', '2024-03-24'],\n",
    "    'Producto': ['Manzanas', 'Peras', 'Naranjas', 'Plátanos', 'Uvas', 'Melocotones'],\n",
    "    'Cantidad': [23, 15, 18, 30, 8, 20],\n",
    "    'Precio': [1.2, 1.5, 1.0, 0.8, 2.0, 1.7]\n",
    "}\n",
    "\n",
    "df_ventas = pd.DataFrame(data)\n",
    "df_ventas['Fecha'] = pd.to_datetime(df_ventas['Fecha'], format='%Y-%m-%d').dt.strftime('%d/%m/%Y')\n",
    "df_ventas\n",
    "\n",
    "def guardar_en_excel():\n",
    "    df_ventas.to_excel(\"/mnt/data/ventas_productos.xlsx\", index=False)\n",
    "    print(\"Datos guardados en 'ventas_productos.xlsx'.\")\n",
    "\n",
    "guardar_en_excel()"
   ]
  },
  {
   "cell_type": "markdown",
   "id": "9df99960",
   "metadata": {},
   "source": [
    "# Abrir y Escribir Archivos desde Pandas 3\n",
    "Dado un diccionario con datos de ventas diarias de una tienda como sigue:\n",
    "\n",
    "```python\n",
    "data = {\n",
    "    'Fecha': ['2024-03-19', '2024-03-20', '2024-03-21', '2024-03-22', '2024-03-23', '2024-03-24'],\n",
    "    'Producto': ['Manzanas', 'Peras', 'Naranjas', 'Plátanos', 'Uvas', 'Melocotones'],\n",
    "    'Cantidad': [23, 15, 18, 30, 8, 20],\n",
    "    'Precio': [1.2, 1.5, 1.0, 0.8, 2.0, 1.7]\n",
    "}\n",
    "```\n",
    "\n",
    "Tu tarea consiste en realizar las siguientes acciones:\n",
    "\n",
    "1. Creación de DataFrame: Genera un DataFrame denominado ``df_ventas`` utilizando la información provista en el diccionario data.\n",
    "2. Cálculo de Precio Total: Añade al DataFrame ``df_ventas`` una nueva columna llamada ``Precio Total``. Esta columna debe contener el precio total de cada venta, calculado como el producto de la cantidad vendida por el precio unitario de cada producto.\n",
    "3. Guardado de Datos en CSV: Desarrolla una función titulada ``guardar_en_csv()`` que exporte el DataFrame ``df_ventas`` a un archivo CSV. Nombra el archivo como ventas3.csv y guárdalo en la ruta /mnt/data/. Asegúrate de que el archivo CSV generado no incluya el índice del DataFrame."
   ]
  },
  {
   "cell_type": "code",
   "execution_count": null,
   "id": "a3fef517",
   "metadata": {},
   "outputs": [
    {
     "name": "stdout",
     "output_type": "stream",
     "text": [
      "Datos guardados en 'ventas_productos.csv'.\n"
     ]
    }
   ],
   "source": [
    "import pandas as pd\n",
    "\n",
    "data = {\n",
    "    'Fecha': ['2024-03-19', '2024-03-20', '2024-03-21', '2024-03-22', '2024-03-23', '2024-03-24'],\n",
    "    'Producto': ['Manzanas', 'Peras', 'Naranjas', 'Plátanos', 'Uvas', 'Melocotones'],\n",
    "    'Cantidad': [23, 15, 18, 30, 8, 20],\n",
    "    'Precio': [1.2, 1.5, 1.0, 0.8, 2.0, 1.7]\n",
    "}\n",
    "\n",
    "df = pd.DataFrame(data)\n",
    "df[\"Precio Total\"] = df[\"Cantidad\"] * df[\"Precio\"]\n",
    "\n",
    "\n",
    "def guardar_en_csv():\n",
    "    df.to_csv(\"/mnt/data/ventas_productos.csv\", index=False)\n",
    "    print(\"Datos guardados en 'ventas_productos.csv'.\")\n",
    "\n",
    "guardar_en_csv()"
   ]
  }
 ],
 "metadata": {
  "kernelspec": {
   "display_name": "Python [conda env:base] *",
   "language": "python",
   "name": "conda-base-py"
  },
  "language_info": {
   "codemirror_mode": {
    "name": "ipython",
    "version": 3
   },
   "file_extension": ".py",
   "mimetype": "text/x-python",
   "name": "python",
   "nbconvert_exporter": "python",
   "pygments_lexer": "ipython3",
   "version": "3.13.5"
  }
 },
 "nbformat": 4,
 "nbformat_minor": 5
}
