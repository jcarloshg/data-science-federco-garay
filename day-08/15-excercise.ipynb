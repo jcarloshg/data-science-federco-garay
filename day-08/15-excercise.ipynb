{
 "cells": [
  {
   "cell_type": "markdown",
   "id": "0e7e573d-c20c-45f3-a4c2-466608dcd8d1",
   "metadata": {},
   "source": [
    "# Operaciones Avanzadas y Funciones Universales en NumPy 1\n",
    "Crea un programa que defina dos arrays usando NumPy: el primer array `A` debe ser un array unidimensional de 5 elementos, iniciando en 1 y con pasos de 2 (i.e., [1, 3, 5, 7, 9]), y el segundo array `B` debe ser un array bidimensional de forma (5,1), con valores que comiencen en 10 y aumenten de 10 en 10 (i.e., [[10], [20], [30], [40], [50]]).\n",
    "\n",
    "Utiliza el concepto de broadcasting para sumar estos dos arrays y almacena su resultado en una variable llamada `resultado`"
   ]
  },
  {
   "cell_type": "code",
   "execution_count": 8,
   "id": "985a46ed-717d-40d6-80f6-9207153f061e",
   "metadata": {},
   "outputs": [
    {
     "name": "stdout",
     "output_type": "stream",
     "text": [
      "[1 3 5 7 9]\n",
      "[[10]\n",
      " [20]\n",
      " [30]\n",
      " [40]\n",
      " [50]]\n"
     ]
    },
    {
     "data": {
      "text/plain": [
       "array([[11, 13, 15, 17, 19],\n",
       "       [21, 23, 25, 27, 29],\n",
       "       [31, 33, 35, 37, 39],\n",
       "       [41, 43, 45, 47, 49],\n",
       "       [51, 53, 55, 57, 59]])"
      ]
     },
     "execution_count": 8,
     "metadata": {},
     "output_type": "execute_result"
    }
   ],
   "source": [
    "import numpy as np\n",
    "\n",
    "A = np.arange(1, 10, 2)\n",
    "print(A)\n",
    "B = np.arange(10, 51, 10).reshape(5,1)\n",
    "print(B)\n",
    "resultado = A + B\n",
    "resultado"
   ]
  },
  {
   "cell_type": "markdown",
   "id": "0423632e-5969-4259-a7b3-d37809f1b89a",
   "metadata": {},
   "source": [
    "# Operaciones Avanzadas y Funciones Universales en NumPy 2\n",
    "Crea un programa que defina dos arrays usando NumPy: el primer array `A` debe ser un array unidimensional de 10 elementos, iniciando en 1 hasta el 10, y el segundo array `B` debe ser un array bidimensional de forma (5,1), con valores que comiencen en 10 y aumenten de 10 en 10 (i.e., [[10], [20], [30], [40], [50]]).\n",
    "\n",
    "Utiliza el concepto de broadcasting para multiplicar estos dos arrays almacena el resultado en una variable llamada `resultado`"
   ]
  },
  {
   "cell_type": "code",
   "execution_count": 12,
   "id": "3acf5ebb-3db5-4e6a-aec0-34e5843bc046",
   "metadata": {},
   "outputs": [
    {
     "data": {
      "text/plain": [
       "array([[ 10,  20,  30,  40,  50,  60,  70,  80,  90, 100],\n",
       "       [ 20,  40,  60,  80, 100, 120, 140, 160, 180, 200],\n",
       "       [ 30,  60,  90, 120, 150, 180, 210, 240, 270, 300],\n",
       "       [ 40,  80, 120, 160, 200, 240, 280, 320, 360, 400],\n",
       "       [ 50, 100, 150, 200, 250, 300, 350, 400, 450, 500]])"
      ]
     },
     "execution_count": 12,
     "metadata": {},
     "output_type": "execute_result"
    }
   ],
   "source": [
    "import numpy as np\n",
    "A = np.arange(1, 11)\n",
    "B = np.arange(10, 51, 10).reshape(5,1)\n",
    "resultado = A * B\n",
    "resultado"
   ]
  },
  {
   "cell_type": "markdown",
   "id": "752f40f4-ef69-4571-9fc6-2c2bfdcc988a",
   "metadata": {},
   "source": [
    "# Operaciones Avanzadas y Funciones Universales en NumPy 3\n",
    "Crea un programa que defina un array usando NumPy: `A` debe ser un array unidimensional de solamente 3 elementos, iniciando en 1 y terminando en 3 (inclusive)\n",
    "\n",
    "Utiliza la función matemática adecuada para almacenar en una variable llamada `resultado` el exponente de cada numero contenido en A"
   ]
  },
  {
   "cell_type": "code",
   "execution_count": 13,
   "id": "0a89de03-3dcd-4bac-b59e-9fe175c0cd24",
   "metadata": {},
   "outputs": [
    {
     "data": {
      "text/plain": [
       "array([ 2.71828183,  7.3890561 , 20.08553692])"
      ]
     },
     "execution_count": 13,
     "metadata": {},
     "output_type": "execute_result"
    }
   ],
   "source": [
    "import numpy as np\n",
    "A = np.arange(1,4)\n",
    "resultado = np.exp(A)\n",
    "resultado"
   ]
  }
 ],
 "metadata": {
  "kernelspec": {
   "display_name": "Python [conda env:base] *",
   "language": "python",
   "name": "conda-base-py"
  },
  "language_info": {
   "codemirror_mode": {
    "name": "ipython",
    "version": 3
   },
   "file_extension": ".py",
   "mimetype": "text/x-python",
   "name": "python",
   "nbconvert_exporter": "python",
   "pygments_lexer": "ipython3",
   "version": "3.13.5"
  }
 },
 "nbformat": 4,
 "nbformat_minor": 5
}
