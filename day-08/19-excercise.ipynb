{
 "cells": [
  {
   "cell_type": "markdown",
   "id": "fa5701a8-684a-4a10-b0dc-2e9cc4608a09",
   "metadata": {},
   "source": [
    "# Importación y Exportación de Datos con NumPy 1\n",
    "Dado el archivo `datos.csv`\n",
    "\n",
    "Utiliza la función de NumPy correcta para importar los datos que contienen solo números. Asegúrate de que el delimitador utilizado en el archivo sea una coma (,)\n",
    "\n",
    "Guarda los datos importados en una variable llamada `datos`.\n",
    "\n",
    "Asegurate de no modificar la ruta que ya viene cargada por defecto en el ejercicio:\n",
    "\n",
    "# Cargamos los datos del archivo 'datos.csv', \n",
    "```python\n",
    "ruta = './datos.csv'\n",
    "```"
   ]
  },
  {
   "cell_type": "code",
   "execution_count": 2,
   "id": "8a543805-6aa1-4441-8499-e6c21df1a844",
   "metadata": {},
   "outputs": [
    {
     "data": {
      "text/plain": [
       "array([[ 0.,  1.,  2.,  3.,  0.],\n",
       "       [ 0.,  2.,  2.,  4.,  0.],\n",
       "       [17.,  7., 22., 46.,  0.],\n",
       "       [ 1.,  1.,  5.,  7.,  0.],\n",
       "       [ 0.,  3.,  4.,  7.,  0.]])"
      ]
     },
     "execution_count": 2,
     "metadata": {},
     "output_type": "execute_result"
    }
   ],
   "source": [
    "import numpy as np\n",
    "ruta = './datos.csv'\n",
    "datos = np.genfromtxt(ruta, delimiter=',', skip_header=1, filling_values=0)\n",
    "datos"
   ]
  },
  {
   "cell_type": "markdown",
   "id": "be9b9021-2135-4726-b85f-f128bc1bb0f8",
   "metadata": {},
   "source": [
    "# Importación y Exportación de Datos con NumPy 2\n",
    "Asegurate de que se ignoren los encabezados de columna."
   ]
  },
  {
   "cell_type": "code",
   "execution_count": 7,
   "id": "40895468-fa27-45ee-9713-6b35e290e0d4",
   "metadata": {},
   "outputs": [
    {
     "data": {
      "text/plain": [
       "array([[nan,  1.,  2.,  3., nan],\n",
       "       [nan,  2.,  2.,  4., nan],\n",
       "       [17.,  7., 22., 46., nan],\n",
       "       [ 1.,  1.,  5.,  7., nan],\n",
       "       [nan,  3.,  4.,  7., nan]])"
      ]
     },
     "execution_count": 7,
     "metadata": {},
     "output_type": "execute_result"
    }
   ],
   "source": [
    "import numpy as np\n",
    "ruta = './datos.csv'\n",
    "datos = np.genfromtxt(ruta, delimiter=',', skip_header=1)\n",
    "datos"
   ]
  },
  {
   "cell_type": "markdown",
   "id": "f3739ff6-5d5c-4f0f-9376-ea4e7aff070d",
   "metadata": {},
   "source": [
    "# Importación y Exportación de Datos con NumPy 3\n",
    "Después de realizar algunas operaciones con arrays de NumPy en tu código, tienes un array llamado `resultados`\n",
    "\n",
    "```python\n",
    "resultados = np.array([[1, 2, 3], [4, 5, 6], [7, 8, 9]])\n",
    "```\n",
    "\n",
    "El cual deseas exportar a un archivo CSV llamado `resultados_finales.csv`.\n",
    "\n",
    "Usa la función adecuada de NumPy para lograr esta tarea, asegurándote de que el delimitador sea una coma (,)"
   ]
  },
  {
   "cell_type": "code",
   "execution_count": 9,
   "id": "62b66438-24ed-4e99-9090-99612f7aac0d",
   "metadata": {},
   "outputs": [],
   "source": [
    "import numpy as np\n",
    "resultados = np.array([[1, 2, 3], [4, 5, 6], [7, 8, 9]])\n",
    "resultados_finales_url = \"./resultados_finales.csv\"\n",
    "np.savetxt(resultados_finales_url, resultados, delimiter=',', fmt='%d')"
   ]
  }
 ],
 "metadata": {
  "kernelspec": {
   "display_name": "Python [conda env:base] *",
   "language": "python",
   "name": "conda-base-py"
  },
  "language_info": {
   "codemirror_mode": {
    "name": "ipython",
    "version": 3
   },
   "file_extension": ".py",
   "mimetype": "text/x-python",
   "name": "python",
   "nbconvert_exporter": "python",
   "pygments_lexer": "ipython3",
   "version": "3.13.5"
  }
 },
 "nbformat": 4,
 "nbformat_minor": 5
}
