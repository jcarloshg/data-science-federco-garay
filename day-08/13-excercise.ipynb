{
 "cells": [
  {
   "cell_type": "markdown",
   "id": "d58c941d-10c1-4436-a0de-66aa0ff923ab",
   "metadata": {},
   "source": [
    "# Forma y Estructura de los Arrays de NumPy 1\n",
    "Crea un array de NumPy llamado `array_original` que contenga los números del 1 al 12 y luego cambia su forma para que se convierta en un array de 3 filas y 4 columnas. Almacenalo en una variable llamada `array_reshape`"
   ]
  },
  {
   "cell_type": "code",
   "execution_count": 2,
   "id": "949b3532-e3e7-471c-a72f-9163f9150665",
   "metadata": {},
   "outputs": [
    {
     "data": {
      "text/plain": [
       "array([[ 1,  2,  3,  4],\n",
       "       [ 5,  6,  7,  8],\n",
       "       [ 9, 10, 11, 12]])"
      ]
     },
     "execution_count": 2,
     "metadata": {},
     "output_type": "execute_result"
    }
   ],
   "source": [
    "import numpy as np\n",
    "\n",
    "array_original = np.arange(1, 13)\n",
    "array_reshape = array_original.reshape(3,4)\n",
    "array_reshape"
   ]
  },
  {
   "cell_type": "markdown",
   "id": "5f2673a3-750b-4588-883b-cbf5c4c1850a",
   "metadata": {},
   "source": [
    "# Forma y Estructura de los Arrays de NumPy 2\n",
    "Crea un array bidimensional llamado: `array_original` de forma (2, 3) que contenga los primeros 6 números enteros positivos. Utiliza el método correcto para cambiar sus filas por columnas. Almacenalo en una variable llamada `array_modificado`"
   ]
  },
  {
   "cell_type": "code",
   "execution_count": 6,
   "id": "854dd29a-429f-4c86-aa7d-a2dfff8b8c3a",
   "metadata": {},
   "outputs": [
    {
     "data": {
      "text/plain": [
       "array([[1, 4],\n",
       "       [2, 5],\n",
       "       [3, 6]])"
      ]
     },
     "execution_count": 6,
     "metadata": {},
     "output_type": "execute_result"
    }
   ],
   "source": [
    "import numpy as np\n",
    "array_original = np.arange(1,7).reshape(2,3)\n",
    "array_modificado = array_original.transpose()\n",
    "array_modificado"
   ]
  },
  {
   "cell_type": "markdown",
   "id": "39e9ee27-ee80-48a5-84a9-9364117620b2",
   "metadata": {},
   "source": [
    "# Forma y Estructura de los Arrays de NumPy 3\n",
    "Crea un array de 2 dimensiones `array_original` de forma (2, 3) que contenga los primeros 6 números enteros positivos. Identico al del ejercicio anterior. Luego, crea una copia aplanada de este array y almacénalo en una variable llamada `array_aplanado`"
   ]
  },
  {
   "cell_type": "code",
   "execution_count": 7,
   "id": "08890e7a-a9ee-4a6f-be4c-5cbe219eb99b",
   "metadata": {},
   "outputs": [
    {
     "data": {
      "text/plain": [
       "array([1, 2, 3, 4, 5, 6])"
      ]
     },
     "execution_count": 7,
     "metadata": {},
     "output_type": "execute_result"
    }
   ],
   "source": [
    "import numpy as np\n",
    "array_original = np.arange(1,7).reshape(2,3)\n",
    "array_aplanado = array_original.flatten()\n",
    "array_aplanado"
   ]
  }
 ],
 "metadata": {
  "kernelspec": {
   "display_name": "Python [conda env:base] *",
   "language": "python",
   "name": "conda-base-py"
  },
  "language_info": {
   "codemirror_mode": {
    "name": "ipython",
    "version": 3
   },
   "file_extension": ".py",
   "mimetype": "text/x-python",
   "name": "python",
   "nbconvert_exporter": "python",
   "pygments_lexer": "ipython3",
   "version": "3.13.5"
  }
 },
 "nbformat": 4,
 "nbformat_minor": 5
}
