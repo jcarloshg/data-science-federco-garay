{
 "cells": [
  {
   "cell_type": "code",
   "execution_count": 3,
   "id": "b5172f9f-55d4-40e7-b15f-7bb504e9b310",
   "metadata": {},
   "outputs": [
    {
     "data": {
      "text/plain": [
       "array([1, 2, 3, 4, 5, 6, 7, 8, 9])"
      ]
     },
     "execution_count": 3,
     "metadata": {},
     "output_type": "execute_result"
    }
   ],
   "source": [
    "import numpy as np\n",
    "array = np.arange(1,10)\n",
    "array"
   ]
  },
  {
   "cell_type": "code",
   "execution_count": 5,
   "id": "7b64ab1a-75c7-4e48-bbcc-23cc7926c9da",
   "metadata": {},
   "outputs": [
    {
     "data": {
      "text/plain": [
       "array([[1, 2, 3],\n",
       "       [4, 5, 6],\n",
       "       [7, 8, 9]])"
      ]
     },
     "execution_count": 5,
     "metadata": {},
     "output_type": "execute_result"
    }
   ],
   "source": [
    "array_mod = array.reshape(-1, 3)\n",
    "array_mod"
   ]
  },
  {
   "cell_type": "code",
   "execution_count": 6,
   "id": "6ee4cf78-ceef-456a-b6ee-6db3d9c04b65",
   "metadata": {},
   "outputs": [
    {
     "data": {
      "text/plain": [
       "array([[1, 4, 7],\n",
       "       [2, 5, 8],\n",
       "       [3, 6, 9]])"
      ]
     },
     "execution_count": 6,
     "metadata": {},
     "output_type": "execute_result"
    }
   ],
   "source": [
    "array_voltado = array_mod.transpose()\n",
    "array_voltado"
   ]
  },
  {
   "cell_type": "code",
   "execution_count": 7,
   "id": "305b20da-a549-4e90-aa18-e706d4a4ba70",
   "metadata": {},
   "outputs": [
    {
     "data": {
      "text/plain": [
       "array([1, 2, 3, 4, 5, 6, 7, 8, 9])"
      ]
     },
     "execution_count": 7,
     "metadata": {},
     "output_type": "execute_result"
    }
   ],
   "source": [
    "# create a copy\n",
    "array_flat = array.flatten()\n",
    "array_flat"
   ]
  },
  {
   "cell_type": "code",
   "execution_count": 9,
   "id": "962ef92c-8e49-4e64-9163-0815dac4a9f4",
   "metadata": {},
   "outputs": [
    {
     "data": {
      "text/plain": [
       "array([1, 2, 3, 4, 5, 6, 7, 8, 9])"
      ]
     },
     "execution_count": 9,
     "metadata": {},
     "output_type": "execute_result"
    }
   ],
   "source": [
    "# generate a view of the array, less memory\n",
    "array_flat = array.ravel()\n",
    "array_flat"
   ]
  },
  {
   "cell_type": "code",
   "execution_count": null,
   "id": "aef6d8ab-cece-410b-a9b6-4f4985d67c43",
   "metadata": {},
   "outputs": [],
   "source": []
  }
 ],
 "metadata": {
  "kernelspec": {
   "display_name": "Python [conda env:base] *",
   "language": "python",
   "name": "conda-base-py"
  },
  "language_info": {
   "codemirror_mode": {
    "name": "ipython",
    "version": 3
   },
   "file_extension": ".py",
   "mimetype": "text/x-python",
   "name": "python",
   "nbconvert_exporter": "python",
   "pygments_lexer": "ipython3",
   "version": "3.13.5"
  }
 },
 "nbformat": 4,
 "nbformat_minor": 5
}
