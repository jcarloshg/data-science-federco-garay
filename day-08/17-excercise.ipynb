{
 "cells": [
  {
   "cell_type": "markdown",
   "id": "b1cd9820-35ba-4df2-9709-18d78d9d787c",
   "metadata": {},
   "source": [
    "# Tratamiento de Datos Faltantes con NumPy 1\n",
    "Dado el siguiente array de numpay\n",
    "\n",
    "```python\n",
    "array = np.array([3, np.nan, 7, np.nan, 0, 4.5, np.nan])\n",
    "```\n",
    "\n",
    "Utiliza la función adecuada para comprobar la presencia de NaN, y almacena el resultado en una variable llamada: `nan_presencia`"
   ]
  },
  {
   "cell_type": "code",
   "execution_count": 1,
   "id": "49adcf86-76e9-4875-9665-1cfb4e89994d",
   "metadata": {},
   "outputs": [
    {
     "data": {
      "text/plain": [
       "array([False,  True, False,  True, False, False,  True])"
      ]
     },
     "execution_count": 1,
     "metadata": {},
     "output_type": "execute_result"
    }
   ],
   "source": [
    "import numpy as np\n",
    "array = np.array([3, np.nan, 7, np.nan, 0, 4.5, np.nan])\n",
    "nan_presencia = np.isnan(array)\n",
    "nan_presencia"
   ]
  },
  {
   "cell_type": "markdown",
   "id": "e9c37c14-7ed1-4ae6-8a6d-5beab02b601c",
   "metadata": {},
   "source": [
    "# Tratamiento de Datos Faltantes con NumPy 2\n",
    "Dado el siguiente array de numpay\n",
    "\n",
    "```python\n",
    "array = np.array([3, np.nan, 7, np.nan, 0, 4.5, np.nan])\n",
    "```\n",
    "\n",
    "Crea una variable llamada `promedio_sin_nans` que almacene el promedio excluyendo cualquier valor np.nan. Debes utilizar una función de NumPy que ignore los np.nan automáticamente para este cálculo."
   ]
  },
  {
   "cell_type": "code",
   "execution_count": 2,
   "id": "a04ab603-b6c3-4d9c-98aa-221f0572080e",
   "metadata": {},
   "outputs": [
    {
     "data": {
      "text/plain": [
       "np.float64(3.625)"
      ]
     },
     "execution_count": 2,
     "metadata": {},
     "output_type": "execute_result"
    }
   ],
   "source": [
    "import numpy as np\n",
    "array = np.array([3, np.nan, 7, np.nan, 0, 4.5, np.nan])\n",
    "promedio_sin_nans = np.nanmean(array)\n",
    "promedio_sin_nans"
   ]
  },
  {
   "cell_type": "markdown",
   "id": "544173bc-663c-44c8-916a-202a004dc3fd",
   "metadata": {},
   "source": [
    "# Tratamiento de Datos Faltantes con NumPy 3\n",
    "Dado el siguiente array de numpay\n",
    "\n",
    "```python\n",
    "array = np.array([3, np.nan, 7, np.nan, 0, 4.5, np.nan])\n",
    "```\n",
    "\n",
    "Crea una variable nombrada `sustituir_nans` donde almacenes los np.nan encontrados en el array sustituidos por cero (0). Emplea la función correcta de NumPy para esta finalidad."
   ]
  },
  {
   "cell_type": "code",
   "execution_count": 3,
   "id": "4ae3673f-e2bf-4a8a-a734-5c152f14ddf5",
   "metadata": {},
   "outputs": [
    {
     "data": {
      "text/plain": [
       "array([3. , 0. , 7. , 0. , 0. , 4.5, 0. ])"
      ]
     },
     "execution_count": 3,
     "metadata": {},
     "output_type": "execute_result"
    }
   ],
   "source": [
    "import numpy as np\n",
    "array = np.array([3, np.nan, 7, np.nan, 0, 4.5, np.nan])\n",
    "sustituir_nans = np.where(np.isnan(array), 0, array)\n",
    "sustituir_nans"
   ]
  }
 ],
 "metadata": {
  "kernelspec": {
   "display_name": "Python [conda env:base] *",
   "language": "python",
   "name": "conda-base-py"
  },
  "language_info": {
   "codemirror_mode": {
    "name": "ipython",
    "version": 3
   },
   "file_extension": ".py",
   "mimetype": "text/x-python",
   "name": "python",
   "nbconvert_exporter": "python",
   "pygments_lexer": "ipython3",
   "version": "3.13.5"
  }
 },
 "nbformat": 4,
 "nbformat_minor": 5
}
