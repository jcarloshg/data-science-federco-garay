{
 "cells": [
  {
   "cell_type": "code",
   "execution_count": 1,
   "id": "2b67e840-bd41-4df0-a876-df8420bb6030",
   "metadata": {},
   "outputs": [
    {
     "data": {
      "text/plain": [
       "array([ 1.,  2., nan,  4.,  5.])"
      ]
     },
     "execution_count": 1,
     "metadata": {},
     "output_type": "execute_result"
    }
   ],
   "source": [
    "import numpy as np\n",
    "array = np.array([1,2,np.nan, 4,5])\n",
    "array"
   ]
  },
  {
   "cell_type": "code",
   "execution_count": 2,
   "id": "24131034-dc06-4b45-812c-9cf1ecef8f8a",
   "metadata": {},
   "outputs": [
    {
     "data": {
      "text/plain": [
       "array([False, False,  True, False, False])"
      ]
     },
     "execution_count": 2,
     "metadata": {},
     "output_type": "execute_result"
    }
   ],
   "source": [
    "np.isnan(array)"
   ]
  },
  {
   "cell_type": "code",
   "execution_count": 3,
   "id": "a8c53706-39ce-4a21-9c99-10388cc27f36",
   "metadata": {},
   "outputs": [
    {
     "data": {
      "text/plain": [
       "np.float64(nan)"
      ]
     },
     "execution_count": 3,
     "metadata": {},
     "output_type": "execute_result"
    }
   ],
   "source": [
    "np.mean(array)"
   ]
  },
  {
   "cell_type": "code",
   "execution_count": 4,
   "id": "9e1006b9-6179-4c69-b5df-901e271b2253",
   "metadata": {},
   "outputs": [
    {
     "data": {
      "text/plain": [
       "np.float64(3.0)"
      ]
     },
     "execution_count": 4,
     "metadata": {},
     "output_type": "execute_result"
    }
   ],
   "source": [
    "# the value nan is not added in the sum\n",
    "# the same case to the division\n",
    "np.nanmean(array)"
   ]
  },
  {
   "cell_type": "code",
   "execution_count": 5,
   "id": "124a8c44-5851-4af7-aa0f-4ad2a6a86e6d",
   "metadata": {},
   "outputs": [
    {
     "data": {
      "text/plain": [
       "array([1., 2., 0., 4., 5.])"
      ]
     },
     "execution_count": 5,
     "metadata": {},
     "output_type": "execute_result"
    }
   ],
   "source": [
    "array_with_zero = np.where(np.isnan(array), 0, array)\n",
    "array_with_zero"
   ]
  },
  {
   "cell_type": "code",
   "execution_count": 6,
   "id": "838e50bd-492a-4e9d-911c-0d5382bd2302",
   "metadata": {},
   "outputs": [
    {
     "data": {
      "text/plain": [
       "array([1., 2., 3., 4., 5.])"
      ]
     },
     "execution_count": 6,
     "metadata": {},
     "output_type": "execute_result"
    }
   ],
   "source": [
    "promedio = np.nanmean(array)\n",
    "array_with_xero_mean = np.where(np.isnan(array), promedio, array)\n",
    "array_with_xero_mean"
   ]
  },
  {
   "cell_type": "code",
   "execution_count": 7,
   "id": "879f4e15-d26a-48ee-bb31-0316ad97a6b2",
   "metadata": {},
   "outputs": [
    {
     "data": {
      "text/plain": [
       "array([1., 2., 4., 5.])"
      ]
     },
     "execution_count": 7,
     "metadata": {},
     "output_type": "execute_result"
    }
   ],
   "source": [
    "# remove the values as nana (not a number)\n",
    "array_filtrado = array[~np.isnan(array)]\n",
    "array_filtrado"
   ]
  }
 ],
 "metadata": {
  "kernelspec": {
   "display_name": "Python [conda env:base] *",
   "language": "python",
   "name": "conda-base-py"
  },
  "language_info": {
   "codemirror_mode": {
    "name": "ipython",
    "version": 3
   },
   "file_extension": ".py",
   "mimetype": "text/x-python",
   "name": "python",
   "nbconvert_exporter": "python",
   "pygments_lexer": "ipython3",
   "version": "3.13.5"
  }
 },
 "nbformat": 4,
 "nbformat_minor": 5
}
