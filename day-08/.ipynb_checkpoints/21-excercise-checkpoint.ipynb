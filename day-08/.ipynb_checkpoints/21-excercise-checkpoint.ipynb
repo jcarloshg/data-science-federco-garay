{
 "cells": [
  {
   "cell_type": "markdown",
   "id": "ff4d6e93-ae38-4e12-9c89-5a1477953cb9",
   "metadata": {},
   "source": [
    "# Integración de NumPy con Pandas 1\n",
    "Crea un DataFrame de Pandas llamado `mi_dataframe` con dos columnas: \"Frutas\" y \"Cantidad\".\n",
    "\n",
    "La columna \"Frutas\" debe contener los valores `\"Manzana\", \"Banana\" y \"Cereza\"`.\n",
    "\n",
    "La columna \"Cantidad\" debe contener los números `5, 8 y 3` respectivamente.\n",
    "\n",
    "Luego, convierte este DataFrame en un array de NumPy y guárdalo en una variable llamada `array_frutas`."
   ]
  },
  {
   "cell_type": "code",
   "execution_count": 4,
   "id": "bce6c36b-da21-4751-826c-bf8bac1d44fa",
   "metadata": {},
   "outputs": [
    {
     "data": {
      "text/plain": [
       "array([['Manzana', 5],\n",
       "       ['Banana', 8],\n",
       "       ['Cereza', 3]], dtype=object)"
      ]
     },
     "execution_count": 4,
     "metadata": {},
     "output_type": "execute_result"
    }
   ],
   "source": [
    "import pandas as pd\n",
    "import numpy as np\n",
    "\n",
    "mi_dataframe = pd.DataFrame({\n",
    "    \"Frutas\": [\"Manzana\", \"Banana\", \"Cereza\"],\n",
    "    \"Cantidad\": [5,8,3],\n",
    "})\n",
    "\n",
    "array_frutas = mi_dataframe.to_numpy()\n",
    "array_frutas"
   ]
  },
  {
   "cell_type": "markdown",
   "id": "78d208d0-bfae-4501-9306-06c70de63eab",
   "metadata": {},
   "source": [
    "# Integración de NumPy con Pandas 2\n",
    "Crea un DataFrame de Pandas llamado `mi_dataframe` con dos columnas: \"Frutas\" y \"Cantidad\".\n",
    "\n",
    "La columna \"Frutas\" debe contener los valores `\"Manzana\", \"Banana\" y \"Cereza\"`.\n",
    "\n",
    "La columna \"Cantidad\" debe contener los números `5, 8 y 3` respectivamente.\n",
    "\n",
    "1. Luego, filtra las filas donde la cantidad sea mayor a 4, almacena el resultado en una variable llamada: `mi_dataframe_filtrado`\n",
    "\n",
    "2. Convierte el resultado en un array de NumPy. Guarda el array resultante en una variable llamada `array_filtrado`"
   ]
  },
  {
   "cell_type": "code",
   "execution_count": 8,
   "id": "59d555e7-f169-4e86-b000-f27992811a1d",
   "metadata": {},
   "outputs": [
    {
     "data": {
      "text/plain": [
       "array([['Manzana', 5],\n",
       "       ['Banana', 8]], dtype=object)"
      ]
     },
     "execution_count": 8,
     "metadata": {},
     "output_type": "execute_result"
    }
   ],
   "source": [
    "import pandas as pd\n",
    "import numpy as np\n",
    "\n",
    "mi_dataframe = pd.DataFrame({\n",
    "    \"Frutas\": [\"Manzana\", \"Banana\", \"Cereza\"],\n",
    "    \"Cantidad\": [5,8,3],\n",
    "})\n",
    "\n",
    "# Filtrar las filas donde la cantidad sea mayor a 4\n",
    "filtro = mi_dataframe['Cantidad'] > 4\n",
    "mi_dataframe_filtrado = mi_dataframe[filtro]\n",
    "mi_dataframe_filtrado\n",
    "\n",
    "array_filtrado = mi_dataframe_filtrado.to_numpy()\n",
    "array_filtrado"
   ]
  },
  {
   "cell_type": "markdown",
   "id": "3d0ef699-b4c6-4f53-bff1-2fa28f720173",
   "metadata": {},
   "source": [
    "# Integración de NumPy con Pandas 3\n",
    "Crea un array de NumPy llamado `mi_array` con dos columnas y tres filas.\n",
    "\n",
    "1. La primera columna debe contener los números 10, 20 y 30.\n",
    "2. La segunda columna debe contener los números 40, 50 y 60.\n",
    "\n",
    "Convierte este array en un DataFrame de Pandas llamado `df_numeros` y asigna los nombres \"Decenas\" y \"Centenas\" a las columnas."
   ]
  },
  {
   "cell_type": "code",
   "execution_count": 15,
   "id": "cabac681-a93c-43c7-af85-bc7c4519d87b",
   "metadata": {},
   "outputs": [
    {
     "data": {
      "text/html": [
       "<div>\n",
       "<style scoped>\n",
       "    .dataframe tbody tr th:only-of-type {\n",
       "        vertical-align: middle;\n",
       "    }\n",
       "\n",
       "    .dataframe tbody tr th {\n",
       "        vertical-align: top;\n",
       "    }\n",
       "\n",
       "    .dataframe thead th {\n",
       "        text-align: right;\n",
       "    }\n",
       "</style>\n",
       "<table border=\"1\" class=\"dataframe\">\n",
       "  <thead>\n",
       "    <tr style=\"text-align: right;\">\n",
       "      <th></th>\n",
       "      <th>Decenas</th>\n",
       "      <th>Centenas</th>\n",
       "    </tr>\n",
       "  </thead>\n",
       "  <tbody>\n",
       "    <tr>\n",
       "      <th>0</th>\n",
       "      <td>10</td>\n",
       "      <td>40</td>\n",
       "    </tr>\n",
       "    <tr>\n",
       "      <th>1</th>\n",
       "      <td>20</td>\n",
       "      <td>50</td>\n",
       "    </tr>\n",
       "    <tr>\n",
       "      <th>2</th>\n",
       "      <td>30</td>\n",
       "      <td>60</td>\n",
       "    </tr>\n",
       "  </tbody>\n",
       "</table>\n",
       "</div>"
      ],
      "text/plain": [
       "   Decenas  Centenas\n",
       "0       10        40\n",
       "1       20        50\n",
       "2       30        60"
      ]
     },
     "execution_count": 15,
     "metadata": {},
     "output_type": "execute_result"
    }
   ],
   "source": [
    "import pandas as pd\n",
    "import numpy as np\n",
    "\n",
    "mi_array = np.arange(10, 61, 10).reshape(2,3).transpose()\n",
    "mi_array\n",
    "\n",
    "df_numeros = pd.DataFrame(mi_array, columns=[\"Decenas\", \"Centenas\"])\n",
    "df_numeros"
   ]
  }
 ],
 "metadata": {
  "kernelspec": {
   "display_name": "Python [conda env:base] *",
   "language": "python",
   "name": "conda-base-py"
  },
  "language_info": {
   "codemirror_mode": {
    "name": "ipython",
    "version": 3
   },
   "file_extension": ".py",
   "mimetype": "text/x-python",
   "name": "python",
   "nbconvert_exporter": "python",
   "pygments_lexer": "ipython3",
   "version": "3.13.5"
  }
 },
 "nbformat": 4,
 "nbformat_minor": 5
}
