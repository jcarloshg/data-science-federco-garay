{
 "cells": [
  {
   "cell_type": "markdown",
   "id": "cbf2383f-0d52-4889-b3ca-0aaa7bc0c9a8",
   "metadata": {},
   "source": [
    "# Indexación y Segmentación en Arrays de NumPy 1\n",
    "Crea un array de numpy nombrado `numeros` que contenga los primeros 10 números enteros (del 1 al 10). Luego escribe un código para obtener el quinto elemento de este array. Almacenalo en una variable llamada `quinto_elemento`\n",
    "\n",
    "Recuerda que los elementos se cuentan a partir de 1 en adelante, mientras que los indices de los elementos que componen una lista o array comienzan desde 0."
   ]
  },
  {
   "cell_type": "code",
   "execution_count": 3,
   "id": "41ed4526-56b9-4843-832e-2199ba3f287d",
   "metadata": {},
   "outputs": [
    {
     "data": {
      "text/plain": [
       "np.int64(5)"
      ]
     },
     "execution_count": 3,
     "metadata": {},
     "output_type": "execute_result"
    }
   ],
   "source": [
    "import numpy as np\n",
    "\n",
    "numeros = np.array(list(range(1,11)))\n",
    "quinto_elemento = numeros[4]\n",
    "quinto_elemento"
   ]
  },
  {
   "cell_type": "markdown",
   "id": "d43f6273-c8ca-443e-9e99-119dc4020710",
   "metadata": {},
   "source": [
    "# Indexación y Segmentación en Arrays de NumPy 2\n",
    "Crea un array bidimensional al que nombres: `matriz` con forma (3, 3) que representa una matriz de números del 1 al 9. Escribe un código para extraer la segunda fila completa de esta matriz. Almacenala en una variable nombrada `segunda_fila`"
   ]
  },
  {
   "cell_type": "code",
   "execution_count": 9,
   "id": "85c2371c-dad8-4944-9f09-f8e26380f621",
   "metadata": {},
   "outputs": [
    {
     "data": {
      "text/plain": [
       "array([[1, 2, 3],\n",
       "       [4, 5, 6],\n",
       "       [7, 8, 9]])"
      ]
     },
     "execution_count": 9,
     "metadata": {},
     "output_type": "execute_result"
    }
   ],
   "source": [
    "import numpy as np\n",
    "\n",
    "array1d = np.array(list(range(1,10)))\n",
    "matriz = array1d.reshape(3,3)\n",
    "matriz"
   ]
  }
 ],
 "metadata": {
  "kernelspec": {
   "display_name": "Python [conda env:base] *",
   "language": "python",
   "name": "conda-base-py"
  },
  "language_info": {
   "codemirror_mode": {
    "name": "ipython",
    "version": 3
   },
   "file_extension": ".py",
   "mimetype": "text/x-python",
   "name": "python",
   "nbconvert_exporter": "python",
   "pygments_lexer": "ipython3",
   "version": "3.13.5"
  }
 },
 "nbformat": 4,
 "nbformat_minor": 5
}
