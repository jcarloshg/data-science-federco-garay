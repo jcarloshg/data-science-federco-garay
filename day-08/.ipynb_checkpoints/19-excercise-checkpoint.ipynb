{
 "cells": [
  {
   "cell_type": "markdown",
   "id": "fa5701a8-684a-4a10-b0dc-2e9cc4608a09",
   "metadata": {},
   "source": [
    "# Importación y Exportación de Datos con NumPy 1\n",
    "Dado el archivo `datos.csv`\n",
    "\n",
    "Utiliza la función de NumPy correcta para importar los datos que contienen solo números. Asegúrate de que el delimitador utilizado en el archivo sea una coma (,)\n",
    "\n",
    "Guarda los datos importados en una variable llamada `datos`.\n",
    "\n",
    "Asegurate de no modificar la ruta que ya viene cargada por defecto en el ejercicio:\n",
    "\n",
    "# Cargamos los datos del archivo 'datos.csv', \n",
    "```python\n",
    "ruta = './datos.csv'\n",
    "```"
   ]
  }
 ],
 "metadata": {
  "kernelspec": {
   "display_name": "Python [conda env:base] *",
   "language": "python",
   "name": "conda-base-py"
  },
  "language_info": {
   "codemirror_mode": {
    "name": "ipython",
    "version": 3
   },
   "file_extension": ".py",
   "mimetype": "text/x-python",
   "name": "python",
   "nbconvert_exporter": "python",
   "pygments_lexer": "ipython3",
   "version": "3.13.5"
  }
 },
 "nbformat": 4,
 "nbformat_minor": 5
}
