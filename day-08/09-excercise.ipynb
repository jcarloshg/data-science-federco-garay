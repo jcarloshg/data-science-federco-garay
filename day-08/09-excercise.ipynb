{
 "cells": [
  {
   "cell_type": "markdown",
   "id": "91da6c0d-2eea-4a16-a06a-3c2cd3943ebe",
   "metadata": {},
   "source": [
    "# Manipulación de Arrays en NumPy 1\n",
    "Crea dos arrays unidimensionales, `array1` y `array2`, donde array1 contiene los números del 1 al 5 y array2 contiene los números del 6 al 10. Utiliza la función de numpy adecuada para concatenar array1 y array2 en un nuevo array llamado `array_concatenado`."
   ]
  },
  {
   "cell_type": "code",
   "execution_count": 1,
   "id": "448dcd9f-7ce6-44e9-a8b7-a3d98d48bf09",
   "metadata": {},
   "outputs": [
    {
     "data": {
      "text/plain": [
       "array([ 1,  2,  3,  4,  5,  6,  7,  8,  9, 10])"
      ]
     },
     "execution_count": 1,
     "metadata": {},
     "output_type": "execute_result"
    }
   ],
   "source": [
    "import numpy as np\n",
    "array1 = np.array([1,2,3,4,5])\n",
    "array2 = np.array([6,7,8,9,10])\n",
    "array_concatenado = np.concat([array1,array2])\n",
    "array_concatenado"
   ]
  },
  {
   "cell_type": "markdown",
   "id": "ea6a14b7-d514-47a4-8125-624c87970723",
   "metadata": {},
   "source": [
    "# Manipulación de Arrays en NumPy 2\n",
    "Crea un array unidimensional array_original con los números del 1 al 6, utiliza el método correcto para transformarlo en un array bidimensional de 2 filas y 3 columnas. Almacena el resultado en una variable llamada array_reshaped"
   ]
  },
  {
   "cell_type": "code",
   "execution_count": 2,
   "id": "e439cb81-1ad2-4e7e-89e8-622514276112",
   "metadata": {},
   "outputs": [
    {
     "data": {
      "text/plain": [
       "array([[1, 2, 3],\n",
       "       [4, 5, 6]])"
      ]
     },
     "execution_count": 2,
     "metadata": {},
     "output_type": "execute_result"
    }
   ],
   "source": [
    "import numpy as np\n",
    "array_original = np.array([1,2,3,4,5,6]) \n",
    "array_reshaped = array_original.reshape(2,3)\n",
    "array_reshaped"
   ]
  },
  {
   "cell_type": "markdown",
   "id": "5e77f8d6-bd82-4a14-b3f1-58af37a1b392",
   "metadata": {},
   "source": [
    "# Manipulación de Arrays en NumPy 3\n",
    "Crea un array bidimensional A de forma 2x2 que contenga los números del 1 al 4.\n",
    "\n",
    "Crea otro array bidimensional B de la misma forma que contenga los números del 5 al 8.\n",
    "\n",
    "Realiza las siguientes operaciones e imprime los resultados:\n",
    "\n",
    "1. La suma de A y B. Almacena el resultado en una variable llamada suma_AB\n",
    "2. El producto elemento a elemento de A y B. Almacena el resultado en una variable llamada productoAB"
   ]
  },
  {
   "cell_type": "code",
   "execution_count": 7,
   "id": "d01fdbc9-5959-46f6-b25e-87ed41b509b7",
   "metadata": {},
   "outputs": [
    {
     "data": {
      "text/plain": [
       "array([[ 5, 12],\n",
       "       [21, 32]])"
      ]
     },
     "execution_count": 7,
     "metadata": {},
     "output_type": "execute_result"
    }
   ],
   "source": [
    "import numpy as np\n",
    "\n",
    "A = np.array([[1,2],[3,4]])\n",
    "B = np.array([[5,6],[7,8]])\n",
    "\n",
    "suma_AB = A + B\n",
    "suma_AB\n",
    "\n",
    "productoAB = A * B\n",
    "productoAB"
   ]
  }
 ],
 "metadata": {
  "kernelspec": {
   "display_name": "Python [conda env:base] *",
   "language": "python",
   "name": "conda-base-py"
  },
  "language_info": {
   "codemirror_mode": {
    "name": "ipython",
    "version": 3
   },
   "file_extension": ".py",
   "mimetype": "text/x-python",
   "name": "python",
   "nbconvert_exporter": "python",
   "pygments_lexer": "ipython3",
   "version": "3.13.5"
  }
 },
 "nbformat": 4,
 "nbformat_minor": 5
}
