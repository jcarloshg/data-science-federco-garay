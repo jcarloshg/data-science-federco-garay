{
 "cells": [
  {
   "cell_type": "code",
   "execution_count": 1,
   "id": "889ea455-3ec6-41a1-9481-4e02a19d2cbb",
   "metadata": {},
   "outputs": [
    {
     "data": {
      "text/plain": [
       "np.int64(1)"
      ]
     },
     "execution_count": 1,
     "metadata": {},
     "output_type": "execute_result"
    }
   ],
   "source": [
    "import numpy as np\n",
    "\n",
    "array1d = np.array([1,2,3,4,5])\n",
    "array1d[0]"
   ]
  },
  {
   "cell_type": "code",
   "execution_count": 4,
   "id": "6b26cf5a-79a9-49e3-bece-50e6fa96c6b2",
   "metadata": {},
   "outputs": [
    {
     "data": {
      "text/plain": [
       "np.int64(2)"
      ]
     },
     "execution_count": 4,
     "metadata": {},
     "output_type": "execute_result"
    }
   ],
   "source": [
    "array2d = np.array([[1,2,3,4,5],[6,7,8,9,10],[11,12,13,14,15]])\n",
    "array2d[0][1]"
   ]
  },
  {
   "cell_type": "code",
   "execution_count": 5,
   "id": "4a5e5e0b-1a2f-43f5-926b-4fb6ca98166d",
   "metadata": {},
   "outputs": [
    {
     "data": {
      "text/plain": [
       "array([2, 3])"
      ]
     },
     "execution_count": 5,
     "metadata": {},
     "output_type": "execute_result"
    }
   ],
   "source": [
    "array1d[1:3]"
   ]
  },
  {
   "cell_type": "code",
   "execution_count": 6,
   "id": "37264839-8082-4906-88de-1e82a3b09b5f",
   "metadata": {},
   "outputs": [
    {
     "data": {
      "text/plain": [
       "array([ 6,  7,  8,  9, 10])"
      ]
     },
     "execution_count": 6,
     "metadata": {},
     "output_type": "execute_result"
    }
   ],
   "source": [
    "array2d[1,:]"
   ]
  },
  {
   "cell_type": "code",
   "execution_count": 7,
   "id": "764b0202-2d16-4843-9318-a7eb50b89e9b",
   "metadata": {},
   "outputs": [
    {
     "data": {
      "text/plain": [
       "array([6, 7, 8])"
      ]
     },
     "execution_count": 7,
     "metadata": {},
     "output_type": "execute_result"
    }
   ],
   "source": [
    "array2d[1,:3]"
   ]
  },
  {
   "cell_type": "code",
   "execution_count": 8,
   "id": "96b8e4a5-ec6a-4922-a9bd-44b6b7a24357",
   "metadata": {},
   "outputs": [
    {
     "data": {
      "text/plain": [
       "array([ 2,  7, 12])"
      ]
     },
     "execution_count": 8,
     "metadata": {},
     "output_type": "execute_result"
    }
   ],
   "source": [
    "array2d[:, 1]"
   ]
  },
  {
   "cell_type": "code",
   "execution_count": 9,
   "id": "a48e2729-c9a5-461e-ad3e-4f6648f48ad2",
   "metadata": {},
   "outputs": [
    {
     "data": {
      "text/plain": [
       "array([[1, 2],\n",
       "       [6, 7]])"
      ]
     },
     "execution_count": 9,
     "metadata": {},
     "output_type": "execute_result"
    }
   ],
   "source": [
    "array2d[:2, :2]"
   ]
  },
  {
   "cell_type": "code",
   "execution_count": 10,
   "id": "fd345fc3-5428-4e1a-8cd2-684e06851f50",
   "metadata": {},
   "outputs": [
    {
     "data": {
      "text/plain": [
       "array([False, False, False,  True,  True])"
      ]
     },
     "execution_count": 10,
     "metadata": {},
     "output_type": "execute_result"
    }
   ],
   "source": [
    "array1d > 3"
   ]
  },
  {
   "cell_type": "code",
   "execution_count": 11,
   "id": "f67a7936-8b24-4ebe-9ae7-aaffb5d00155",
   "metadata": {},
   "outputs": [
    {
     "data": {
      "text/plain": [
       "array([[False,  True, False,  True, False],\n",
       "       [ True, False,  True, False,  True],\n",
       "       [False,  True, False,  True, False]])"
      ]
     },
     "execution_count": 11,
     "metadata": {},
     "output_type": "execute_result"
    }
   ],
   "source": [
    "array2d % 2 == 0"
   ]
  }
 ],
 "metadata": {
  "kernelspec": {
   "display_name": "Python [conda env:base] *",
   "language": "python",
   "name": "conda-base-py"
  },
  "language_info": {
   "codemirror_mode": {
    "name": "ipython",
    "version": 3
   },
   "file_extension": ".py",
   "mimetype": "text/x-python",
   "name": "python",
   "nbconvert_exporter": "python",
   "pygments_lexer": "ipython3",
   "version": "3.13.5"
  }
 },
 "nbformat": 4,
 "nbformat_minor": 5
}
