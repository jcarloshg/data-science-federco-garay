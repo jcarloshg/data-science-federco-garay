{
 "cells": [
  {
   "cell_type": "markdown",
   "id": "e5edaa41-cf2a-4f9c-b66e-f7bb9c2f5255",
   "metadata": {},
   "source": [
    "# Tipos de Arrays en NumPy 1\n",
    "Crea un array unidimensional llamado: `array_enteros` que contenga los primeros 10 números enteros positivos, comenzando desde el 1.\n",
    "\n",
    "Recuerda importar NumPy para poder utilizar sus funcionalidades."
   ]
  },
  {
   "cell_type": "code",
   "execution_count": 4,
   "id": "012bf85c-78a1-4b64-b13b-c8938ecd0176",
   "metadata": {},
   "outputs": [
    {
     "data": {
      "text/plain": [
       "array([ 1,  2,  3,  4,  5,  6,  7,  8,  9, 10])"
      ]
     },
     "execution_count": 4,
     "metadata": {},
     "output_type": "execute_result"
    }
   ],
   "source": [
    "import numpy as np\n",
    "numbers=list(range(1,11))\n",
    "array_enteros = np.array(numbers)\n",
    "array_enteros"
   ]
  },
  {
   "cell_type": "markdown",
   "id": "6f018904-cdd5-48e6-a149-726ae1b7fc83",
   "metadata": {},
   "source": [
    "# Tipos de Arrays en NumPy 2\n",
    "Utilizando el array creado en el Ejercicio 1, `array_enteros` escribe un código que imprima la forma de este array, debes almacenar el resultado en una variable llamada: `forma_array`\n"
   ]
  },
  {
   "cell_type": "code",
   "execution_count": 5,
   "id": "005bf4c6-6572-4c23-b9eb-fc809daa9950",
   "metadata": {},
   "outputs": [
    {
     "data": {
      "text/plain": [
       "(10,)"
      ]
     },
     "execution_count": 5,
     "metadata": {},
     "output_type": "execute_result"
    }
   ],
   "source": [
    "import numpy as np\n",
    "numbers=list(range(1,11))\n",
    "array_enteros = np.array(numbers)\n",
    "forma_array = array_enteros.shape\n",
    "forma_array"
   ]
  },
  {
   "cell_type": "code",
   "execution_count": null,
   "id": "fa1c0411-d0e8-4270-8734-c656e86d6fba",
   "metadata": {},
   "outputs": [],
   "source": [
    "# Tipos de Arrays en NumPy 3\n",
    "Crea un array bidimensional llamado: `array_2d`\n",
    "\n",
    "La primera dimensión del array debe contener los números 1 2 3\n",
    "\n",
    "La segunda dimensión del array debe contener los números 4 5 6\n",
    "\n",
    "Crea una variable llamada: largo_array_2d   donde almacenes el largo del array creado anteriormente."
   ]
  },
  {
   "cell_type": "code",
   "execution_count": 9,
   "id": "df138fad-893a-4fb5-90f3-e1fd886b0d2f",
   "metadata": {},
   "outputs": [
    {
     "data": {
      "text/plain": [
       "2"
      ]
     },
     "execution_count": 9,
     "metadata": {},
     "output_type": "execute_result"
    }
   ],
   "source": [
    "import numpy as np\n",
    "\n",
    "array_uno = np.array([1,2,3])\n",
    "array_dos = np.array([4,5,6])\n",
    "\n",
    "array_2d = np.array([array_uno, array_dos])\n",
    "largo_array_2d = len(array_2d)\n",
    "largo_array_2d"
   ]
  }
 ],
 "metadata": {
  "kernelspec": {
   "display_name": "Python [conda env:base] *",
   "language": "python",
   "name": "conda-base-py"
  },
  "language_info": {
   "codemirror_mode": {
    "name": "ipython",
    "version": 3
   },
   "file_extension": ".py",
   "mimetype": "text/x-python",
   "name": "python",
   "nbconvert_exporter": "python",
   "pygments_lexer": "ipython3",
   "version": "3.13.5"
  }
 },
 "nbformat": 4,
 "nbformat_minor": 5
}
